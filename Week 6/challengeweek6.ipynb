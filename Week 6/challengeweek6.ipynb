{
 "cells": [
  {
   "cell_type": "markdown",
   "metadata": {},
   "source": [
    "# Python Competition"
   ]
  },
  {
   "cell_type": "code",
   "execution_count": null,
   "metadata": {},
   "outputs": [],
   "source": [
    "\"\"\" \n",
    "Create a;\n",
    "1- 2 String variable\n",
    "2- 2 Float variable\n",
    "3- 2 Integer variable\n",
    "4- print the type of the variables\n",
    "\"\"\""
   ]
  },
  {
   "cell_type": "code",
   "execution_count": null,
   "metadata": {},
   "outputs": [],
   "source": []
  },
  {
   "cell_type": "code",
   "execution_count": null,
   "metadata": {},
   "outputs": [],
   "source": [
    "\"\"\"\n",
    "Use print function to print:\n",
    "\n",
    "1. A string\n",
    "2. A number\n",
    "3. 4 mathematical operations using both float and integer (+, -, *, /)\n",
    "4. Write a comment in your code\n",
    "5. print the results in this format:\n",
    "The result of the operation is **result**.\n",
    "\"\"\""
   ]
  },
  {
   "cell_type": "code",
   "execution_count": null,
   "metadata": {},
   "outputs": [],
   "source": []
  },
  {
   "cell_type": "code",
   "execution_count": null,
   "metadata": {},
   "outputs": [],
   "source": [
    "\"\"\" \n",
    "create a string variable and use the following string methods:\n",
    "\n",
    "1. upper\n",
    "2. lower\n",
    "3. slicing first 3 characters\n",
    "\n",
    "\"\"\""
   ]
  },
  {
   "cell_type": "code",
   "execution_count": null,
   "metadata": {},
   "outputs": [],
   "source": []
  },
  {
   "cell_type": "code",
   "execution_count": null,
   "metadata": {},
   "outputs": [],
   "source": [
    "\"\"\"\n",
    "Use 2 variable you created and use some conditional statements to create boolean results:\n",
    "\n",
    "1 Use == operator\n",
    "2 Use != operator\n",
    "3 Use > operator\n",
    "4 Use < operator\n",
    "5 Use >= operator\n",
    "6 Use <= operator\n",
    "7 Use and operator\n",
    "8 Use or operator\n",
    "\"\"\""
   ]
  },
  {
   "cell_type": "code",
   "execution_count": null,
   "metadata": {},
   "outputs": [],
   "source": []
  },
  {
   "cell_type": "code",
   "execution_count": null,
   "metadata": {},
   "outputs": [],
   "source": [
    "\"\"\" \n",
    "Create a list with names\n",
    "Create a tuples with ages\n",
    "Pair the names with the ages to a new dictionary\n",
    "Print the first and the last name\n",
    "Change the first name\n",
    "Append a name to the list\n",
    "Insert a name to the start of the list\n",
    "Remove a name from the list\n",
    "\"\"\""
   ]
  },
  {
   "cell_type": "code",
   "execution_count": null,
   "metadata": {},
   "outputs": [],
   "source": []
  },
  {
   "cell_type": "code",
   "execution_count": null,
   "metadata": {},
   "outputs": [],
   "source": [
    "\"\"\"\n",
    "Install a new package using Package Installer for Python\n",
    "Import the packages\n",
    "Create array with 5 numbers\n",
    "Print the numbers starting from 10 to 30 and going up by 5\n",
    "Change first and last number of your array and print the modified array\n",
    "\n",
    "Create arange with 5 numbers and make these operations;\n",
    "Substraction\n",
    "Square\n",
    "Addition\n",
    "Multiplication\n",
    "Division\n",
    "Conditional\n",
    "\n",
    "With the same array, use the following functions;\n",
    "Sum\n",
    "Smallest number\n",
    "Largest number\n",
    "Cumulative sum\n",
    "\"\"\""
   ]
  },
  {
   "cell_type": "code",
   "execution_count": null,
   "metadata": {},
   "outputs": [],
   "source": []
  },
  {
   "cell_type": "code",
   "execution_count": null,
   "metadata": {},
   "outputs": [],
   "source": [
    "\"\"\"\n",
    "Create a 2D array with 3 rows and 3 columns (dataframe); *** need to define column names ***\n",
    "age\n",
    "name\n",
    "height\n",
    "\n",
    "After creating the dataframe, use the following functions;\n",
    "Check the first 2 rows\n",
    "Check the last 2 rows\n",
    "\"\"\""
   ]
  }
 ],
 "metadata": {
  "language_info": {
   "name": "python"
  }
 },
 "nbformat": 4,
 "nbformat_minor": 2
}
