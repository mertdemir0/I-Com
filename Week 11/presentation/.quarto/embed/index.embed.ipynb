{
 "cells": [
  {
   "cell_type": "markdown",
   "metadata": {},
   "source": [
    "# Sentiment Analysis with Python\n",
    "\n",
    "Mert Demir (Fondazione Eni Enrico Mattei)\n",
    "\n",
    "## Introduction\n",
    "\n",
    "Today, we’ll explore an advanced Python script that performs news sentiment analysis and aggregation from RSS feeds. We’ll cover asynchronous programming, natural language processing, database operations, and task scheduling.\n",
    "\n",
    "## Libraries"
   ],
   "id": "7d4d04ff-32fa-4300-a812-cf3e014dfc03"
  },
  {
   "cell_type": "code",
   "execution_count": 1,
   "metadata": {},
   "outputs": [
    {
     "output_type": "stream",
     "name": "stdout",
     "text": [
      "Collecting asyncio\n",
      "  Downloading asyncio-3.4.3-py3-none-any.whl.metadata (1.7 kB)\n",
      "Requirement already satisfied: aiohttp in d:\\i-com\\.venv\\lib\\site-packages (3.9.5)\n",
      "Requirement already satisfied: feedparser in d:\\i-com\\.venv\\lib\\site-packages (6.0.11)\n",
      "Requirement already satisfied: pandas in d:\\i-com\\.venv\\lib\\site-packages (2.2.2)\n",
      "Requirement already satisfied: transformers in d:\\i-com\\.venv\\lib\\site-packages (4.41.2)\n",
      "Requirement already satisfied: torch in d:\\i-com\\.venv\\lib\\site-packages (2.3.1)\n",
      "Requirement already satisfied: apscheduler in d:\\i-com\\.venv\\lib\\site-packages (3.10.4)\n",
      "Requirement already satisfied: aiosignal>=1.1.2 in d:\\i-com\\.venv\\lib\\site-packages (from aiohttp) (1.3.1)\n",
      "Requirement already satisfied: attrs>=17.3.0 in d:\\i-com\\.venv\\lib\\site-packages (from aiohttp) (23.2.0)\n",
      "Requirement already satisfied: frozenlist>=1.1.1 in d:\\i-com\\.venv\\lib\\site-packages (from aiohttp) (1.4.1)\n",
      "Requirement already satisfied: multidict<7.0,>=4.5 in d:\\i-com\\.venv\\lib\\site-packages (from aiohttp) (6.0.5)\n",
      "Requirement already satisfied: yarl<2.0,>=1.0 in d:\\i-com\\.venv\\lib\\site-packages (from aiohttp) (1.9.4)\n",
      "Requirement already satisfied: async-timeout<5.0,>=4.0 in d:\\i-com\\.venv\\lib\\site-packages (from aiohttp) (4.0.3)\n",
      "Requirement already satisfied: sgmllib3k in d:\\i-com\\.venv\\lib\\site-packages (from feedparser) (1.0.0)\n",
      "Requirement already satisfied: numpy>=1.22.4 in d:\\i-com\\.venv\\lib\\site-packages (from pandas) (1.24.3)\n",
      "Requirement already satisfied: python-dateutil>=2.8.2 in d:\\i-com\\.venv\\lib\\site-packages (from pandas) (2.9.0.post0)\n",
      "Requirement already satisfied: pytz>=2020.1 in d:\\i-com\\.venv\\lib\\site-packages (from pandas) (2024.1)\n",
      "Requirement already satisfied: tzdata>=2022.7 in d:\\i-com\\.venv\\lib\\site-packages (from pandas) (2024.1)\n",
      "Requirement already satisfied: filelock in d:\\i-com\\.venv\\lib\\site-packages (from transformers) (3.15.4)\n",
      "Requirement already satisfied: huggingface-hub<1.0,>=0.23.0 in d:\\i-com\\.venv\\lib\\site-packages (from transformers) (0.23.4)\n",
      "Requirement already satisfied: packaging>=20.0 in d:\\i-com\\.venv\\lib\\site-packages (from transformers) (24.1)\n",
      "Requirement already satisfied: pyyaml>=5.1 in d:\\i-com\\.venv\\lib\\site-packages (from transformers) (6.0.1)\n",
      "Requirement already satisfied: regex!=2019.12.17 in d:\\i-com\\.venv\\lib\\site-packages (from transformers) (2024.5.15)\n",
      "Requirement already satisfied: requests in d:\\i-com\\.venv\\lib\\site-packages (from transformers) (2.32.3)\n",
      "Requirement already satisfied: tokenizers<0.20,>=0.19 in d:\\i-com\\.venv\\lib\\site-packages (from transformers) (0.19.1)\n",
      "Requirement already satisfied: safetensors>=0.4.1 in d:\\i-com\\.venv\\lib\\site-packages (from transformers) (0.4.3)\n",
      "Requirement already satisfied: tqdm>=4.27 in d:\\i-com\\.venv\\lib\\site-packages (from transformers) (4.66.4)\n",
      "Requirement already satisfied: typing-extensions>=4.8.0 in d:\\i-com\\.venv\\lib\\site-packages (from torch) (4.12.2)\n",
      "Requirement already satisfied: sympy in d:\\i-com\\.venv\\lib\\site-packages (from torch) (1.12.1)\n",
      "Requirement already satisfied: networkx in d:\\i-com\\.venv\\lib\\site-packages (from torch) (3.2.1)\n",
      "Requirement already satisfied: jinja2 in d:\\i-com\\.venv\\lib\\site-packages (from torch) (3.1.4)\n",
      "Requirement already satisfied: fsspec in d:\\i-com\\.venv\\lib\\site-packages (from torch) (2024.6.1)\n",
      "Requirement already satisfied: mkl<=2021.4.0,>=2021.1.1 in d:\\i-com\\.venv\\lib\\site-packages (from torch) (2021.4.0)\n",
      "Requirement already satisfied: six>=1.4.0 in d:\\i-com\\.venv\\lib\\site-packages (from apscheduler) (1.16.0)\n",
      "Requirement already satisfied: tzlocal!=3.*,>=2.0 in d:\\i-com\\.venv\\lib\\site-packages (from apscheduler) (5.2)\n",
      "Requirement already satisfied: intel-openmp==2021.* in d:\\i-com\\.venv\\lib\\site-packages (from mkl<=2021.4.0,>=2021.1.1->torch) (2021.4.0)\n",
      "Requirement already satisfied: tbb==2021.* in d:\\i-com\\.venv\\lib\\site-packages (from mkl<=2021.4.0,>=2021.1.1->torch) (2021.13.0)\n",
      "Requirement already satisfied: colorama in d:\\i-com\\.venv\\lib\\site-packages (from tqdm>=4.27->transformers) (0.4.6)\n",
      "Requirement already satisfied: idna>=2.0 in d:\\i-com\\.venv\\lib\\site-packages (from yarl<2.0,>=1.0->aiohttp) (3.7)\n",
      "Requirement already satisfied: MarkupSafe>=2.0 in d:\\i-com\\.venv\\lib\\site-packages (from jinja2->torch) (2.1.5)\n",
      "Requirement already satisfied: charset-normalizer<4,>=2 in d:\\i-com\\.venv\\lib\\site-packages (from requests->transformers) (3.3.2)\n",
      "Requirement already satisfied: urllib3<3,>=1.21.1 in d:\\i-com\\.venv\\lib\\site-packages (from requests->transformers) (2.2.2)\n",
      "Requirement already satisfied: certifi>=2017.4.17 in d:\\i-com\\.venv\\lib\\site-packages (from requests->transformers) (2024.6.2)\n",
      "Requirement already satisfied: mpmath<1.4.0,>=1.1.0 in d:\\i-com\\.venv\\lib\\site-packages (from sympy->torch) (1.3.0)\n",
      "Downloading asyncio-3.4.3-py3-none-any.whl (101 kB)\n",
      "                                            0.0/101.8 kB ? eta -:--:--\n",
      "   ----------------------------             71.7/101.8 kB 2.0 MB/s eta 0:00:01\n",
      "   ---------------------------------------- 101.8/101.8 kB 1.9 MB/s eta 0:00:00\n",
      "Installing collected packages: asyncio\n",
      "Successfully installed asyncio-3.4.3\n",
      "Note: you may need to restart the kernel to use updated packages."
     ]
    }
   ],
   "source": [
    "pip install asyncio aiohttp feedparser pandas transformers torch apscheduler"
   ],
   "id": "00a5f630"
  }
 ],
 "nbformat": 4,
 "nbformat_minor": 5,
 "metadata": {}
}
