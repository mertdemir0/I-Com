{
 "cells": [
  {
   "cell_type": "markdown",
   "metadata": {},
   "source": [
    "# Week 7"
   ]
  },
  {
   "cell_type": "markdown",
   "metadata": {},
   "source": [
    "---\n",
    "\n",
    "## Loops\n",
    "\n",
    "---\n",
    "\n",
    "### Parameter Details\n",
    "boolean expression expression that can be evaluated in a boolean context, e.g. x < 10\n",
    "variable variable name for the current element from the iterable\n",
    "iterable anything that implements iterations\n",
    "As one of the most basic functions in programming, loops are an important piece to nearly every programming\n",
    "language. Loops enable developers to set certain portions of their code to repeat through a number of loops which\n",
    "are referred to as iterations. This topic covers using multiple types of loops and applications of loops in Python\n",
    "\n",
    "---\n",
    "\n",
    "##  For Loops\n",
    "\n",
    "A for loop is used to iterate over a sequence (such as a list, tuple, dictionary, set, or string) and execute a block of code for each item in the sequence."
   ]
  },
  {
   "cell_type": "code",
   "execution_count": 6,
   "metadata": {},
   "outputs": [
    {
     "name": "stdout",
     "output_type": "stream",
     "text": [
      "apple\n",
      "banana\n",
      "cherry\n"
     ]
    }
   ],
   "source": [
    "fruits = [\"apple\", \"banana\", \"cherry\"]\n",
    "for fruit in fruits:\n",
    "    print(fruit)\n",
    "    \n",
    "    ### This code will print the name of each fruit in the list fruits.\n"
   ]
  },
  {
   "cell_type": "markdown",
   "metadata": {},
   "source": [
    "This code prints numbers from 0 to 4. The range(5) function generates a sequence of numbers from 0 up to (but not including) 5."
   ]
  },
  {
   "cell_type": "code",
   "execution_count": 7,
   "metadata": {},
   "outputs": [
    {
     "name": "stdout",
     "output_type": "stream",
     "text": [
      "0\n",
      "1\n",
      "2\n",
      "3\n",
      "4\n"
     ]
    }
   ],
   "source": [
    "for i in range(5):\n",
    "    print(i)\n",
    "    \n",
    "    ### Using the range() function"
   ]
  },
  {
   "cell_type": "markdown",
   "metadata": {},
   "source": [
    "## While Loops\n",
    "\n",
    "---\n",
    "\n",
    "A while loop repeats as long as a certain boolean condition is true."
   ]
  },
  {
   "cell_type": "code",
   "execution_count": 8,
   "metadata": {},
   "outputs": [
    {
     "name": "stdout",
     "output_type": "stream",
     "text": [
      "1\n",
      "2\n",
      "3\n",
      "4\n",
      "5\n"
     ]
    }
   ],
   "source": [
    "#  Repeating until a condition is met\n",
    "i = 1\n",
    "while i < 6:\n",
    "    print(i)\n",
    "    i += 1\n",
    "    \n",
    "    # This code will print numbers from 1 to 5. The loop continues as long as i is less than 6."
   ]
  },
  {
   "cell_type": "markdown",
   "metadata": {},
   "source": [
    "Using a break statement to exit a loop.\n",
    "\n",
    "---\n",
    "\n",
    "This code will print numbers from 1 to 3. When i becomes 3, the break statement exits the loop."
   ]
  },
  {
   "cell_type": "code",
   "execution_count": 9,
   "metadata": {},
   "outputs": [
    {
     "name": "stdout",
     "output_type": "stream",
     "text": [
      "1\n",
      "2\n",
      "3\n"
     ]
    }
   ],
   "source": [
    "i = 1\n",
    "while i < 6:\n",
    "    print(i)\n",
    "    if i == 3:\n",
    "        break\n",
    "    i += 1"
   ]
  },
  {
   "cell_type": "markdown",
   "metadata": {},
   "source": [
    "Loop Control Statements\n",
    "\n",
    "---\n",
    "\n",
    "* break: Exits the loop.\n",
    "* continue: Skips the rest of the code inside the loop for the current iteration and moves to the next iteration.\n",
    "* else: Executes a block of code once when the loop condition is no longer true (works with both for and while loops but is more common with while loops)."
   ]
  },
  {
   "cell_type": "code",
   "execution_count": 10,
   "metadata": {},
   "outputs": [
    {
     "name": "stdout",
     "output_type": "stream",
     "text": [
      "1\n",
      "2\n",
      "4\n",
      "5\n",
      "Loop finished\n"
     ]
    }
   ],
   "source": [
    "#Using continue and else with a while loop\n",
    "i = 0\n",
    "while i < 5:\n",
    "    i += 1\n",
    "    if i == 3:\n",
    "        continue\n",
    "    print(i)\n",
    "else:\n",
    "    print(\"Loop finished\")"
   ]
  },
  {
   "cell_type": "markdown",
   "metadata": {},
   "source": [
    "This code will print 1, 2, 4, 5, and then \"Loop finished\". Notice that 3 is skipped due to the continue statement, and the else block is executed after the loop completes normally.\n",
    "\n",
    "Loops are powerful tools that help you perform operations on data collections, automate repetitive tasks, and control the flow of your program. Practice with these examples to get a good grasp of how loops work in Python.\n",
    "\n",
    "Building on the basics, let's delve deeper into how loops, particularly for loops and while loops, can be used in more complex scenarios and how they interact with other control flow statements like continue, break, and else."
   ]
  },
  {
   "cell_type": "markdown",
   "metadata": {},
   "source": [
    "## Nested Loops\n",
    "\n",
    "A nested loop is a loop inside the body of another loop. It's useful for iterating over each element of multiple collections, or any situation requiring a pair of elements from two sequences."
   ]
  },
  {
   "cell_type": "code",
   "execution_count": 11,
   "metadata": {},
   "outputs": [
    {
     "name": "stdout",
     "output_type": "stream",
     "text": [
      "Position (0, 0)\n",
      "Position (0, 1)\n",
      "Position (1, 0)\n",
      "Position (1, 1)\n",
      "Position (2, 0)\n",
      "Position (2, 1)\n"
     ]
    }
   ],
   "source": [
    "#Nested for loops for a grid\n",
    "#This code iterates over a 3x2 grid and prints the position of each cell.\n",
    "for i in range(3):  # Outer loop\n",
    "    for j in range(2):  # Inner loop\n",
    "        print(f\"Position ({i}, {j})\")"
   ]
  },
  {
   "cell_type": "markdown",
   "metadata": {},
   "source": [
    "## Looping Through Dictionaries\n",
    "\n",
    "---\n",
    "\n",
    "Dictionaries can be iterated in several ways: by keys, by values, or by both keys and values."
   ]
  },
  {
   "cell_type": "code",
   "execution_count": 12,
   "metadata": {},
   "outputs": [
    {
     "name": "stdout",
     "output_type": "stream",
     "text": [
      "name: John\n",
      "age: 30\n",
      "city: New York\n"
     ]
    }
   ],
   "source": [
    "#Iterating through key-value pairs\n",
    "#This code prints each key-value pair in the person dictionary.\n",
    "person = {\"name\": \"John\", \"age\": 30, \"city\": \"New York\"}\n",
    "for key, value in person.items():\n",
    "    print(f\"{key}: {value}\")"
   ]
  },
  {
   "cell_type": "markdown",
   "metadata": {},
   "source": [
    "## Using enumerate() for Index-Value Pairs\n",
    "\n",
    "---\n",
    "\n",
    "When looping through sequences, you might need both the index and the value of each item. The enumerate() function helps with this."
   ]
  },
  {
   "cell_type": "code",
   "execution_count": 13,
   "metadata": {},
   "outputs": [
    {
     "name": "stdout",
     "output_type": "stream",
     "text": [
      "0: apple\n",
      "1: banana\n",
      "2: cherry\n"
     ]
    }
   ],
   "source": [
    "fruits = [\"apple\", \"banana\", \"cherry\"]\n",
    "for index, fruit in enumerate(fruits):\n",
    "    print(f\"{index}: {fruit}\")"
   ]
  },
  {
   "cell_type": "markdown",
   "metadata": {},
   "source": [
    "## Comprehensions with Loops\n",
    "\n",
    "---\n",
    "\n",
    "Python supports a concise way to create lists, sets, or dictionaries from existing iterables using loops inside comprehensions."
   ]
  },
  {
   "cell_type": "code",
   "execution_count": 14,
   "metadata": {},
   "outputs": [
    {
     "name": "stdout",
     "output_type": "stream",
     "text": [
      "[0, 1, 4, 9, 16, 25, 36, 49, 64, 81]\n"
     ]
    }
   ],
   "source": [
    "#This creates a list of squares of numbers from 0 to 9.\n",
    "squares = [x**2 for x in range(10)]\n",
    "print(squares)"
   ]
  },
  {
   "cell_type": "markdown",
   "metadata": {},
   "source": [
    "## Infinite Loops\n",
    "\n",
    "---\n",
    "\n",
    "An infinite loop runs forever unless it's interrupted. While usually avoided, they can be useful in certain contexts, like waiting for user input."
   ]
  },
  {
   "cell_type": "code",
   "execution_count": 15,
   "metadata": {},
   "outputs": [],
   "source": [
    "# Warning: This will run forever if not interrupted\n",
    "while True:\n",
    "    response = input(\"Type 'exit' to stop: \")\n",
    "    if response == 'exit':\n",
    "        break"
   ]
  },
  {
   "cell_type": "code",
   "execution_count": 16,
   "metadata": {},
   "outputs": [
    {
     "name": "stdout",
     "output_type": "stream",
     "text": [
      "1\n",
      "3\n",
      "5\n",
      "7\n",
      "9\n"
     ]
    }
   ],
   "source": [
    "for num in range(10):\n",
    "    if num % 2 == 0:\n",
    "        continue  # Skip even numbers\n",
    "    print(num)"
   ]
  },
  {
   "cell_type": "markdown",
   "metadata": {},
   "source": [
    "## Working with Multiple Lists\n",
    "\n",
    "---\n",
    "\n",
    "Often, you'll need to work with multiple lists or sequences simultaneously. Python's zip() function makes this straightforward by iterating over several iterables in parallel.\n",
    "\n",
    "Example: Parallel Iteration with zip()"
   ]
  },
  {
   "cell_type": "code",
   "execution_count": 17,
   "metadata": {},
   "outputs": [
    {
     "name": "stdout",
     "output_type": "stream",
     "text": [
      "John is 25 years old.\n",
      "Jane is 30 years old.\n",
      "Doe is 35 years old.\n"
     ]
    }
   ],
   "source": [
    "#This code pairs each name with its corresponding age and prints out the result.\n",
    "names = [\"John\", \"Jane\", \"Doe\"]\n",
    "ages = [25, 30, 35]\n",
    "\n",
    "for name, age in zip(names, ages):\n",
    "    print(f\"{name} is {age} years old.\")"
   ]
  },
  {
   "cell_type": "markdown",
   "metadata": {},
   "source": [
    "## Filtering Data with Loops\n",
    "\n",
    "---\n",
    "\n",
    "Loops can be used to filter data, selecting only elements that meet specific criteria.\n",
    "\n",
    "Example: Filtering Odd Numbers"
   ]
  },
  {
   "cell_type": "code",
   "execution_count": 18,
   "metadata": {},
   "outputs": [
    {
     "name": "stdout",
     "output_type": "stream",
     "text": [
      "[1, 3, 5, 7, 9]\n"
     ]
    }
   ],
   "source": [
    "#This example collects all odd numbers from 0 to 9 in a new list.\n",
    "numbers = range(10)\n",
    "odd_numbers = []\n",
    "\n",
    "for number in numbers:\n",
    "    if number % 2 != 0:\n",
    "        odd_numbers.append(number)\n",
    "\n",
    "print(odd_numbers)"
   ]
  },
  {
   "cell_type": "markdown",
   "metadata": {},
   "source": [
    "## Using Loops with Functions\n",
    "\n",
    "---\n",
    "\n",
    "Combining loops with functions allows for more modular and reusable code."
   ]
  },
  {
   "cell_type": "code",
   "execution_count": 22,
   "metadata": {},
   "outputs": [
    {
     "name": "stdout",
     "output_type": "stream",
     "text": [
      "1. Apple\n",
      "2. Banana\n",
      "3. Cherry\n",
      "You selected Cherry.\n"
     ]
    }
   ],
   "source": [
    "def get_user_choice(choices):\n",
    "    for index, choice in enumerate(choices, start=1):\n",
    "        print(f\"{index}. {choice}\")\n",
    "    selection = int(input(\"Enter your choice: \"))\n",
    "    return choices[selection - 1]\n",
    "\n",
    "choices = [\"Apple\", \"Banana\", \"Cherry\"]\n",
    "user_choice = get_user_choice(choices)\n",
    "print(f\"You selected {user_choice}.\")\n"
   ]
  },
  {
   "cell_type": "markdown",
   "metadata": {},
   "source": [
    "Example 1: Counting Word Frequencies"
   ]
  },
  {
   "cell_type": "code",
   "execution_count": 26,
   "metadata": {},
   "outputs": [
    {
     "name": "stdout",
     "output_type": "stream",
     "text": [
      "apple: 2\n",
      "banana: 2\n",
      "cherry: 3\n"
     ]
    }
   ],
   "source": [
    "words = [\"apple\", \"banana\", \"apple\", \"cherry\", \"banana\", \"cherry\", \"cherry\"]\n",
    "word_counts = {}\n",
    "\n",
    "for word in words:\n",
    "    if word in word_counts:\n",
    "        word_counts[word] += 1\n",
    "    else:\n",
    "        word_counts[word] = 1\n",
    "\n",
    "for word, count in word_counts.items():\n",
    "    print(f\"{word}: {count}\")\n"
   ]
  },
  {
   "cell_type": "markdown",
   "metadata": {},
   "source": [
    "Example 2: Removing Punctuation from Text"
   ]
  },
  {
   "cell_type": "code",
   "execution_count": 27,
   "metadata": {},
   "outputs": [
    {
     "name": "stdout",
     "output_type": "stream",
     "text": [
      "Hello world This is an example sentence\n"
     ]
    }
   ],
   "source": [
    "#This loop checks each character in the original text and appends it to a new string if it's not a punctuation mark.\n",
    "\n",
    "import string\n",
    "\n",
    "text = \"Hello, world! This is an example sentence.\"\n",
    "cleaned_text = \"\"\n",
    "\n",
    "for char in text:\n",
    "    if char not in string.punctuation:\n",
    "        cleaned_text += char\n",
    "\n",
    "print(cleaned_text)"
   ]
  },
  {
   "cell_type": "markdown",
   "metadata": {},
   "source": [
    "Example 3: Splitting Text into Words"
   ]
  },
  {
   "cell_type": "code",
   "execution_count": 28,
   "metadata": {},
   "outputs": [
    {
     "name": "stdout",
     "output_type": "stream",
     "text": [
      "['This', 'is', 'a', 'sentence', \"Here's\", 'another', 'sentence']\n"
     ]
    }
   ],
   "source": [
    "#This code first splits the text into sentences, then splits each sentence into words, and collects all words in a list.\n",
    "\n",
    "text = \"This is a sentence. Here's another sentence.\"\n",
    "words = []\n",
    "\n",
    "for sentence in text.split('.'):\n",
    "    for word in sentence.split():\n",
    "        words.append(word)\n",
    "\n",
    "print(words)"
   ]
  },
  {
   "cell_type": "markdown",
   "metadata": {},
   "source": [
    "Example 4: Filtering Stop Words"
   ]
  },
  {
   "cell_type": "code",
   "execution_count": 29,
   "metadata": {},
   "outputs": [
    {
     "name": "stdout",
     "output_type": "stream",
     "text": [
      "Filtered Text: This example sentence common words\n"
     ]
    }
   ],
   "source": [
    "#This example filters out stop words from a sentence, resulting in a list of more meaningful words.\n",
    "\n",
    "text = \"This is an example sentence with some common words\"\n",
    "stop_words = {\"is\", \"an\", \"with\", \"some\"}\n",
    "filtered_words = []\n",
    "\n",
    "for word in text.split():\n",
    "    if word not in stop_words:\n",
    "        filtered_words.append(word)\n",
    "\n",
    "print(\"Filtered Text:\", \" \".join(filtered_words))"
   ]
  },
  {
   "cell_type": "markdown",
   "metadata": {},
   "source": [
    "Example 5: Finding Unique Words"
   ]
  },
  {
   "cell_type": "code",
   "execution_count": 30,
   "metadata": {},
   "outputs": [
    {
     "name": "stdout",
     "output_type": "stream",
     "text": [
      "{'cherry', 'banana', 'apple'}\n"
     ]
    }
   ],
   "source": [
    "#Using a set, this code collects unique words from a text, effectively removing any duplicates.\n",
    "text = \"apple banana apple cherry banana cherry cherry\"\n",
    "unique_words = set()\n",
    "\n",
    "for word in text.split():\n",
    "    unique_words.add(word)\n",
    "\n",
    "print(unique_words)"
   ]
  },
  {
   "cell_type": "markdown",
   "metadata": {},
   "source": [
    "Example 6: Generating N-Grams\n",
    "\n",
    "N-grams are continuous sequences of n items from a given sample of text or speech. They are useful for text analysis and natural language processing tasks."
   ]
  },
  {
   "cell_type": "code",
   "execution_count": 32,
   "metadata": {},
   "outputs": [
    {
     "name": "stdout",
     "output_type": "stream",
     "text": [
      "['this is a', 'is a simple', 'a simple text', 'simple text example']\n"
     ]
    }
   ],
   "source": [
    "def generate_n_grams(text, n):\n",
    "    words = text.split()\n",
    "    n_grams = zip(*[words[i:] for i in range(n)])\n",
    "    return [\" \".join(n_gram) for n_gram in n_grams]\n",
    "\n",
    "text = \"this is a simple text example\"\n",
    "n_grams = generate_n_grams(text, 2)  # Generate bigrams\n",
    "print(n_grams)"
   ]
  },
  {
   "cell_type": "markdown",
   "metadata": {},
   "source": [
    "Example 7: Text Transformation"
   ]
  },
  {
   "cell_type": "code",
   "execution_count": 35,
   "metadata": {},
   "outputs": [
    {
     "name": "stdout",
     "output_type": "stream",
     "text": [
      "this text contains upper and lower case letters.\n"
     ]
    }
   ],
   "source": [
    "text = \"This Text Contains UPPER and lower Case Letters.\"\n",
    "transformed_text = \" \".join([word.lower() for word in text.split()])\n",
    "\n",
    "print(transformed_text)"
   ]
  },
  {
   "cell_type": "markdown",
   "metadata": {},
   "source": [
    "Example 8: Reading a CSV File and Counting Word Frequencies with Pandas"
   ]
  },
  {
   "cell_type": "code",
   "execution_count": null,
   "metadata": {},
   "outputs": [],
   "source": [
    "import pandas as pd\n",
    "\n",
    "# Assume 'data.csv' has a column named 'text' containing sentences.\n",
    "df = pd.read_csv('data.csv')\n",
    "\n",
    "# Tokenize the text and explode the list into rows\n",
    "df['words'] = df['text'].str.split()\n",
    "words_df = df.explode('words')\n",
    "\n",
    "# Count the frequencies of each word\n",
    "word_counts = words_df['words'].value_counts()\n",
    "\n",
    "print(word_counts.head())  # Print the top 5 most frequent words"
   ]
  },
  {
   "cell_type": "markdown",
   "metadata": {},
   "source": [
    "Example 10: Removing Stop Words with Pandas"
   ]
  },
  {
   "cell_type": "code",
   "execution_count": null,
   "metadata": {},
   "outputs": [],
   "source": [
    "from nltk.corpus import stopwords\n",
    "import pandas as pd\n",
    "\n",
    "# Sample DataFrame\n",
    "df = pd.DataFrame({'text': [\"This is a sample sentence.\", \"Another example sentence with stopwords.\"]})\n",
    "\n",
    "# Define stop words\n",
    "stop_words = set(stopwords.words('english'))\n",
    "\n",
    "# Remove stop words\n",
    "df['filtered_text'] = df['text'].apply(lambda x: ' '.join([word for word in x.split() if word.lower() not in stop_words]))\n",
    "\n",
    "print(df[['text', 'filtered_text']])"
   ]
  },
  {
   "cell_type": "markdown",
   "metadata": {},
   "source": [
    "Example 11: Applying Text Transformations with Pandas"
   ]
  },
  {
   "cell_type": "code",
   "execution_count": null,
   "metadata": {},
   "outputs": [],
   "source": [
    "import pandas as pd\n",
    "import string\n",
    "\n",
    "# Sample DataFrame\n",
    "df = pd.DataFrame({'text': [\"Example Sentence #1.\", \"Another, Example; Sentence!\"]})\n",
    "\n",
    "# Text transformations\n",
    "df['lower'] = df['text'].str.lower()\n",
    "df['no_punctuation'] = df['text'].apply(lambda x: x.translate(str.maketrans('', '', string.punctuation)))\n",
    "\n",
    "print(df[['text', 'lower', 'no_punctuation']])"
   ]
  },
  {
   "cell_type": "markdown",
   "metadata": {},
   "source": [
    "Example 12: Generating N-Grams with Pandas"
   ]
  },
  {
   "cell_type": "code",
   "execution_count": 36,
   "metadata": {},
   "outputs": [
    {
     "name": "stdout",
     "output_type": "stream",
     "text": [
      "                          text                                      bigrams\n",
      "0        this is a sample text       [this is, is a, a sample, sample text]\n",
      "1  another sample text example  [another sample, sample text, text example]\n"
     ]
    }
   ],
   "source": [
    "import pandas as pd\n",
    "\n",
    "def generate_n_grams(text, n=2):\n",
    "    words = text.split()\n",
    "    return [' '.join(words[i:i+n]) for i in range(len(words)-n+1)]\n",
    "\n",
    "# Sample DataFrame\n",
    "df = pd.DataFrame({'text': [\"this is a sample text\", \"another sample text example\"]})\n",
    "\n",
    "# Apply the function to each row\n",
    "df['bigrams'] = df['text'].apply(lambda x: generate_n_grams(x, 2))\n",
    "\n",
    "print(df[['text', 'bigrams']])"
   ]
  },
  {
   "cell_type": "markdown",
   "metadata": {},
   "source": [
    "Example 13: Text Similarity using NumPy"
   ]
  },
  {
   "cell_type": "code",
   "execution_count": 37,
   "metadata": {},
   "outputs": [
    {
     "name": "stdout",
     "output_type": "stream",
     "text": [
      "Cosine Similarity: 0.9914601339836675\n"
     ]
    }
   ],
   "source": [
    "import numpy as np\n",
    "\n",
    "def cosine_similarity(vec1, vec2):\n",
    "    dot_product = np.dot(vec1, vec2)\n",
    "    norm_vec1 = np.linalg.norm(vec1)\n",
    "    norm_vec2 = np.linalg.norm(vec2)\n",
    "    return dot_product / (norm_vec1 * norm_vec2)\n",
    "\n",
    "# Example vectors representing text (e.g., TF-IDF or word embedding vectors)\n",
    "vec1 = np.array([1, 2, 3])\n",
    "vec2 = np.array([1, 2, 4])\n",
    "\n",
    "similarity = cosine_similarity(vec1, vec2)\n",
    "print(f\"Cosine Similarity: {similarity}\")"
   ]
  },
  {
   "cell_type": "markdown",
   "metadata": {},
   "source": [
    "Example 14: Combining Loops with List Comprehensions"
   ]
  },
  {
   "cell_type": "code",
   "execution_count": null,
   "metadata": {},
   "outputs": [],
   "source": [
    "# Sample data\n",
    "names = ['John', 'Jane', 'Doe']\n",
    "surnames = ['Doe', 'Doe', 'Smith']\n",
    "\n",
    "# Empty list to store email addresses\n",
    "emails = []\n",
    "\n",
    "# Loop through each name and surname, combine them, and append '@gmail.com'\n",
    "for name, surname in zip(names, surnames):\n",
    "    email = f\"{name.lower()}.{surname.lower()}@gmail.com\"\n",
    "    emails.append(email)\n",
    "\n",
    "# Print the resulting email addresses\n",
    "for email in emails:\n",
    "    print(email)"
   ]
  },
  {
   "cell_type": "markdown",
   "metadata": {},
   "source": [
    "Example 15: Iterating Over Rows"
   ]
  },
  {
   "cell_type": "code",
   "execution_count": 38,
   "metadata": {},
   "outputs": [
    {
     "name": "stdout",
     "output_type": "stream",
     "text": [
      "Index: 0, Name: John, Age: 28, City: New York\n",
      "Index: 1, Name: Jane, Age: 34, City: Los Angeles\n",
      "Index: 2, Name: Doe, Age: 45, City: Chicago\n"
     ]
    }
   ],
   "source": [
    "import pandas as pd\n",
    "\n",
    "# Sample DataFrame\n",
    "data = {'Name': ['John', 'Jane', 'Doe'],\n",
    "        'Age': [28, 34, 45],\n",
    "        'City': ['New York', 'Los Angeles', 'Chicago']}\n",
    "df = pd.DataFrame(data)\n",
    "\n",
    "# Iterate over each row\n",
    "for index, row in df.iterrows():\n",
    "    print(f\"Index: {index}, Name: {row['Name']}, Age: {row['Age']}, City: {row['City']}\")"
   ]
  },
  {
   "cell_type": "markdown",
   "metadata": {},
   "source": [
    "Example 16: Applying a Function to Each Row"
   ]
  },
  {
   "cell_type": "code",
   "execution_count": 39,
   "metadata": {},
   "outputs": [
    {
     "name": "stdout",
     "output_type": "stream",
     "text": [
      "   Name  Age         City Category\n",
      "0  John   28     New York    Young\n",
      "1  Jane   34  Los Angeles    Adult\n",
      "2   Doe   45      Chicago    Adult\n"
     ]
    }
   ],
   "source": [
    "# Define a simple function to categorize ages\n",
    "def categorize_age(age):\n",
    "    if age < 30:\n",
    "        return 'Young'\n",
    "    elif age < 60:\n",
    "        return 'Adult'\n",
    "    else:\n",
    "        return 'Senior'\n",
    "\n",
    "# Apply the function to each row and store the result in a new column\n",
    "df['Category'] = [categorize_age(row['Age']) for index, row in df.iterrows()]\n",
    "\n",
    "print(df)"
   ]
  },
  {
   "cell_type": "markdown",
   "metadata": {},
   "source": [
    "Example 17: Modifying Rows Based on a Condition"
   ]
  },
  {
   "cell_type": "code",
   "execution_count": 40,
   "metadata": {},
   "outputs": [
    {
     "name": "stdout",
     "output_type": "stream",
     "text": [
      "   Name  Age         City Category Region\n",
      "0  John   28     New York    Young   East\n",
      "1  Jane   34  Los Angeles    Adult   West\n",
      "2   Doe   45      Chicago    Adult   East\n"
     ]
    }
   ],
   "source": [
    "# Mark cities as either 'East' or 'West' based on their name\n",
    "for index, row in df.iterrows():\n",
    "    if row['City'] in ['New York', 'Chicago']:\n",
    "        df.at[index, 'Region'] = 'East'\n",
    "    else:\n",
    "        df.at[index, 'Region'] = 'West'\n",
    "\n",
    "print(df)"
   ]
  },
  {
   "cell_type": "markdown",
   "metadata": {},
   "source": [
    "Example 18: Iterating Over Columns"
   ]
  },
  {
   "cell_type": "code",
   "execution_count": 42,
   "metadata": {},
   "outputs": [
    {
     "name": "stdout",
     "output_type": "stream",
     "text": [
      "Column: Name, Data Type: object\n",
      "0    John\n",
      "1    Jane\n",
      "2     Doe\n",
      "Name: Name, dtype: object \n",
      "\n",
      "Column: Age, Data Type: int64\n",
      "0    28\n",
      "1    34\n",
      "2    45\n",
      "Name: Age, dtype: int64 \n",
      "\n",
      "Column: City, Data Type: object\n",
      "0       New York\n",
      "1    Los Angeles\n",
      "2        Chicago\n",
      "Name: City, dtype: object \n",
      "\n",
      "Column: Category, Data Type: object\n",
      "0    Young\n",
      "1    Adult\n",
      "2    Adult\n",
      "Name: Category, dtype: object \n",
      "\n",
      "Column: Region, Data Type: object\n",
      "0    East\n",
      "1    West\n",
      "2    East\n",
      "Name: Region, dtype: object \n",
      "\n"
     ]
    }
   ],
   "source": [
    "# Iterate over each column\n",
    "for column_name, series in df.items():\n",
    "    print(f\"Column: {column_name}, Data Type: {series.dtype}\")\n",
    "    print(series, \"\\n\")"
   ]
  },
  {
   "cell_type": "markdown",
   "metadata": {},
   "source": [
    "Example 19: Row-Wise Operations Across Multiple Columns"
   ]
  },
  {
   "cell_type": "code",
   "execution_count": 43,
   "metadata": {},
   "outputs": [
    {
     "name": "stdout",
     "output_type": "stream",
     "text": [
      "   Name  Age         City Category Region            Description\n",
      "0  John   28     New York    Young   East     John from New York\n",
      "1  Jane   34  Los Angeles    Adult   West  Jane from Los Angeles\n",
      "2   Doe   45      Chicago    Adult   East       Doe from Chicago\n"
     ]
    }
   ],
   "source": [
    "# Combine Name and City into a 'Description' column\n",
    "df['Description'] = [f\"{row['Name']} from {row['City']}\" for index, row in df.iterrows()]\n",
    "\n",
    "print(df)"
   ]
  },
  {
   "cell_type": "code",
   "execution_count": null,
   "metadata": {},
   "outputs": [],
   "source": []
  }
 ],
 "metadata": {
  "kernelspec": {
   "display_name": "base",
   "language": "python",
   "name": "python3"
  },
  "language_info": {
   "codemirror_mode": {
    "name": "ipython",
    "version": 3
   },
   "file_extension": ".py",
   "mimetype": "text/x-python",
   "name": "python",
   "nbconvert_exporter": "python",
   "pygments_lexer": "ipython3",
   "version": "3.9.18"
  }
 },
 "nbformat": 4,
 "nbformat_minor": 2
}
