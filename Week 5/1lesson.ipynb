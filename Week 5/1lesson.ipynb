{
 "cells": [
  {
   "cell_type": "markdown",
   "id": "146be304",
   "metadata": {},
   "source": [
    "\n",
    "# Python Libraries for Data Analysis: `numpy` and `pandas`\n",
    "\n",
    "`numpy` and `pandas` are two of the most frequently used libraries for data analysis in Python.\n",
    "\n",
    "- `numpy`: This library provides support for numerical operations like linear algebra, Fourier transform, and random number capabilities. It's fundamental for scientific computing with Python.\n",
    "\n",
    "- `pandas`: This library provides data structures and data analysis tools. It's easily the most widely-used tool for data munging and preparation.\n",
    "\n",
    "Before using these libraries, we need to import them. The convention is to import `numpy` as `np` and `pandas` as `pd` as shown below.\n"
   ]
  },
  {
   "cell_type": "code",
   "execution_count": null,
   "id": "15b05b7f",
   "metadata": {},
   "outputs": [],
   "source": [
    "import numpy as np\n",
    "import pandas as pd"
   ]
  },
  {
   "cell_type": "markdown",
   "id": "fb397761",
   "metadata": {},
   "source": [
    "\n",
    "## Detailed Explanations\n",
    "\n",
    "1. **Pandas Operations**: With pandas, you can perform a variety of operations on your data such as calculations (addition, subtraction etc.), conditional operation(s), statistical operations (mean, median etc.), string and even more complex operations. Both series and dataframes support these operations.\n",
    "\n",
    "2. **Exploratory Data Analysis (EDA)**: Pandas provide several methods for you to quickly understand and explore your data. Some of these methods include `describe` (which provides a quick statistical summary of your data), `head` (which shows the first N rows of your data), `tail` (shows the last N rows), `shape` (shows the number of rows and columns in your data) and many more.\n",
    "\n",
    "3. **Python Control Structures**: In Python, you have control structures that direct the flow of your program. You have conditional statements (`if-elif-else`) that run certain blocks of code based on specific conditions. Then you also have loops (`for` and `while`) that run a block of code multiple times. The `for` loop often iterates over a sequence (like a list or a string) whereas a `while` loop runs as long as a certain condition is met.\n"
   ]
  },
  {
   "cell_type": "markdown",
   "id": "32927a74",
   "metadata": {},
   "source": [
    "\n",
    "## Numpy\n",
    "\n",
    "Numpy, which stands for 'Numerical Python', is a library consisting of multidimensional array objects and a collection of routines for processing of array. It is the core library for scientific computing in Python. It provides a high-performance multidimensional array object, and tools for working with these arrays.\n",
    "\n",
    "### Creating Arrays\n",
    "\n",
    "There are several ways to create arrays in Numpy. Here are a few examples:\n",
    "\n",
    "- `np.array()`: This function is used when we want to create an array from a list or tuple.\n",
    "\n",
    "- `np.zeros()`: This function is used when we want to create an array filled with zeroes.\n",
    "\n",
    "- `np.ones()`: This function is used when we want to create an array filled with ones.\n",
    "\n",
    "- `np.empty()`: This function is used when we want to create an array without initializing entries.\n",
    "\n",
    "- `np.arange()`: This function returns evenly spaced values within a given interval.\n",
    "\n",
    "- `np.linspace()`: This function is similar to `np.arange()`, but instead of step size, the number of evenly spaced values between the interval is specified.\n"
   ]
  },
  {
   "cell_type": "code",
   "execution_count": null,
   "id": "9dba8089",
   "metadata": {},
   "outputs": [],
   "source": [
    "# Using np.array()\n",
    "a = np.array([1, 2, 3])\n",
    "print('a:', a)\n",
    "\n",
    "# Using np.zeros()\n",
    "b = np.zeros((3,3))\n",
    "print('b:', b)\n",
    "\n",
    "# Using np.ones()\n",
    "c = np.ones((4,4))\n",
    "print('c:', c)\n",
    "\n",
    "# Using np.empty()\n",
    "d = np.empty((2,3))\n",
    "print('d:', d)\n",
    "\n",
    "# Using np.arange()\n",
    "e = np.arange(10, 30, 5)\n",
    "print('e:', e)\n",
    "\n",
    "# Using np.linspace()\n",
    "f = np.linspace(0, 2, 9)\n",
    "print('f:', f)"
   ]
  },
  {
   "cell_type": "markdown",
   "id": "ae8e47c6",
   "metadata": {},
   "source": [
    "\n",
    "### Accessing and modifying elements\n",
    "\n",
    "Elements in a numpy array can be accessed and modified using indices and slices, just like Python lists. Here are some examples:\n"
   ]
  },
  {
   "cell_type": "code",
   "execution_count": null,
   "id": "6dc244ef",
   "metadata": {},
   "outputs": [],
   "source": [
    "# Declare numpy array\n",
    "arr = np.array([2, 4, 6, 8, 10])\n",
    "\n",
    "#Access elements\n",
    "print('First element:', arr[0])\n",
    "print('Second element:', arr[1])\n",
    "print('Last element:', arr[-1])\n",
    "\n",
    "#Modify elements\n",
    "arr[0] = 12\n",
    "arr[-1] = 0\n",
    "print('Modified array:', arr)"
   ]
  },
  {
   "cell_type": "markdown",
   "id": "b087b187",
   "metadata": {},
   "source": [
    "\n",
    "### Basic Operations\n",
    "\n",
    " - Arithmetic operators can be used on arrays to perform element-wise operation.\n",
    "\n",
    " - The product operator `*` operates elementwise in NumPy arrays. The matrix product can be performed using the `@` operator (in python >=3.5) or the `dot` function or method.\n",
    "\n",
    " - Some operations, such as `+=` and `*=`, act in place to modify an existing array rather than create a new one.\n",
    "\n",
    " - NumPy provides familiar mathematical functions such as sin, cos, and exp. In NumPy, these are called “universal functions”(ufunc). Within NumPy, these functions operate elementwise on an array, producing an array as output.\n"
   ]
  },
  {
   "cell_type": "code",
   "execution_count": null,
   "id": "45779061",
   "metadata": {},
   "outputs": [],
   "source": [
    "# Declare arrays\n",
    "a = np.array([20, 30, 40, 50])\n",
    "b = np.arange(4)\n",
    "\n",
    "# Subtraction\n",
    "print('Subtraction:', a-b)\n",
    "\n",
    "# Square\n",
    "print('Square:', b**2)\n",
    "\n",
    "# Conditional operations\n",
    "print('Conditional:', a<35)\n",
    "\n",
    "# Modify existing array\n",
    "a += b\n",
    "print('Modified:', a)"
   ]
  },
  {
   "cell_type": "markdown",
   "id": "7538ab15",
   "metadata": {},
   "source": [
    "\n",
    "### Numpy functions\n",
    "\n",
    "Sum, Min, Max, and Cumulative sum:\n",
    "\n"
   ]
  },
  {
   "cell_type": "code",
   "execution_count": null,
   "id": "5fcc5bbf",
   "metadata": {},
   "outputs": [],
   "source": [
    "# Declare arrays\n",
    "a = np.array([20, 30, 40, 50])\n",
    "\n",
    "# Sum\n",
    "print('Sum:', a.sum())\n",
    "\n",
    "# Min\n",
    "print('Min:', a.min())\n",
    "\n",
    "# Max\n",
    "print('Max:', a.max())\n",
    "\n",
    "# Cumulative sum\n",
    "print('Cumulative sum:', a.cumsum())"
   ]
  },
  {
   "cell_type": "markdown",
   "id": "f9f30cdf",
   "metadata": {},
   "source": [
    "\n",
    "## Pandas\n",
    "\n",
    "Pandas is the most popular python library that is used for data analysis. It provides highly optimized performance with back-end source code is purely written in C or Python.\n",
    "\n",
    "We can analyze data in pandas with:\n",
    "\n",
    "- Series\n",
    "- DataFrames\n",
    "\n",
    "Series is one dimensional(1-D) array defined in pandas that can be used to store any data type.\n",
    "\n",
    "DataFrames is two-dimensional(2-D) data structure defined in pandas which consists of rows and columns.\n",
    "\n",
    "### Series\n",
    "\n",
    "Creating a series by passing a list of values, letting pandas create a default integer index.\n"
   ]
  },
  {
   "cell_type": "code",
   "execution_count": null,
   "id": "f4b2bbbd",
   "metadata": {},
   "outputs": [],
   "source": [
    "import pandas as pd\n",
    "s = pd.Series([1, 3, 5, np.nan, 6, 8])\n",
    "print(s)"
   ]
  },
  {
   "cell_type": "markdown",
   "id": "f33a1368",
   "metadata": {},
   "source": [
    "\n",
    "### DataFrame\n",
    "\n",
    "A DataFrame is a two-dimensional array with labeled axes. In general, you can think of it like a dictionary of Series objects, and it's the most commonly used pandas object.\n",
    "\n",
    "Here are some ways you can create DataFrame.\n"
   ]
  },
  {
   "cell_type": "code",
   "execution_count": null,
   "id": "be422e8a",
   "metadata": {},
   "outputs": [],
   "source": [
    "\n",
    "# Creating a DataFrame by passing a numpy array, with datetime index and labeled columns:\n",
    "dates = pd.date_range('20130101', periods=6)\n",
    "df = pd.DataFrame(np.random.randn(6, 4), index=dates, columns=list('ABCD'))\n",
    "print(df)\n",
    "\n",
    "# Creating a DataFrame by passing a dict of objects that can be converted to series-like.\n",
    "age = [22, 25, 27, 29, 31]\n",
    "name = ['Henry', 'Micheal', 'Charles', 'James', 'Andrew']\n",
    "df = pd.DataFrame({'age': age, 'name': name})\n",
    "print(df)"
   ]
  },
  {
   "cell_type": "markdown",
   "id": "06f9e34a",
   "metadata": {},
   "source": [
    "\n",
    "## Data Viewing and Selection\n",
    "\n",
    "Pandas provides various methods to have a look at the data and select it.\n"
   ]
  },
  {
   "cell_type": "code",
   "execution_count": null,
   "id": "6e7fe5ef",
   "metadata": {},
   "outputs": [],
   "source": [
    "\n",
    "## Viewing Data\n",
    "\n",
    "# Here is how to view the top and bottom rows of the frame:\n",
    "df = pd.DataFrame(np.random.randn(6, 4), index=dates, columns=list('ABCD'))\n",
    "print('Head:')\n",
    "print(df.head())\n",
    "\n",
    "print('Tail:')\n",
    "print(df.tail(3))\n",
    "\n",
    "# Display the index, columns:\n",
    "print('Index:')\n",
    "print(df.index)\n",
    "\n",
    "print('Columns:')\n",
    "print(df.columns)\n",
    "\n",
    "# DataFrame.to_numpy() gives a NumPy representation of the underlying data.\n",
    "# Note that this can be an expensive operation when your DataFrame has columns with different data types\n",
    "print('To NumPy:')\n",
    "print(df.to_numpy())\n",
    "\n",
    "# describe() shows a quick statistic summary of your data:\n",
    "print('Describe:')\n",
    "print(df.describe())\n",
    "\n",
    "## Selection\n",
    "\n",
    "# Selecting a single column, which yields a Series, equivalent to df.A:\n",
    "print('Column A:')\n",
    "print(df['A'])\n",
    "\n",
    "# Selecting via [], which slices the rows.\n",
    "print('Slice:')\n",
    "print(df[1:3])\n",
    "\n",
    "# For getting a cross section using a label:\n",
    "print('Cross section:')\n",
    "print(df.loc[dates[0]])\n",
    "\n",
    "# Selecting on a multi-axis by label:\n",
    "print('Multi-axis selection:')\n",
    "print(df.loc[:, ['A', 'B']])\n",
    "\n",
    "# For getting values with a boolean array:\n",
    "print('Boolean array:')\n",
    "print(df[df > 0])\n"
   ]
  },
  {
   "cell_type": "markdown",
   "id": "4ff63e8c",
   "metadata": {},
   "source": [
    "\n",
    "## Missing Data\n",
    "\n",
    "Pandas uses the value NaN to represent missing data. It is by default not included in computations. Here are some ways to handle missing data.\n"
   ]
  },
  {
   "cell_type": "code",
   "execution_count": null,
   "id": "e10e6377",
   "metadata": {},
   "outputs": [],
   "source": [
    "\n",
    "## Missing data\n",
    "\n",
    "# You can drop any rows that have missing data:\n",
    "df.dropna(how=\"any\")\n",
    "\n",
    "# You can filling missing data:\n",
    "df.fillna(value=5)\n",
    "\n",
    "# To get the boolean mask where values are nan:\n",
    "pd.isna(df)"
   ]
  },
  {
   "cell_type": "markdown",
   "id": "8bee7e94",
   "metadata": {},
   "source": [
    "\n",
    "## Operations\n",
    "\n",
    "Pandas provides various methods to perform operations on dataframe.\n"
   ]
  },
  {
   "cell_type": "code",
   "execution_count": null,
   "id": "7a7093d2",
   "metadata": {},
   "outputs": [],
   "source": [
    "\n",
    "# Performing descriptive statistics:\n",
    "df.mean()\n",
    "\n",
    "# On the other hand, operating with objects that have different dimensionality and need alignment. In addition, pandas automatically broadcasts along the specified dimension.\n",
    "s = pd.Series([1, 3, 5, np.nan, 6, 8], index=dates).shift(2)\n",
    "df.sub(s, axis='index')\n",
    "\n",
    "# Applying functions to the data:\n",
    "df.apply(np.cumsum)\n",
    "df.apply(lambda x: x.max() - x.min())\n",
    "\n",
    "# Histogramming:\n",
    "s = pd.Series(np.random.randint(0, 7, size=10))\n",
    "s.value_counts()"
   ]
  },
  {
   "cell_type": "markdown",
   "id": "1533ed80",
   "metadata": {},
   "source": [
    "\n",
    "## Merge\n",
    "\n",
    "Pandas provides various ways to combine Series, DataFrame, and Panel objects with various kinds of set logic for the indexes and relational algebra functionality in the case of join / merge-type operations.\n"
   ]
  },
  {
   "cell_type": "markdown",
   "id": "a0e35992",
   "metadata": {},
   "source": [
    "\n",
    "## Grouping\n",
    "\n",
    "By \"group by\" we are referring to a process involving one or more of the following steps:\n",
    "\n",
    "- **Splitting** the data into groups based on some criteria\n",
    "- **Applying** a function to each group independently\n",
    "- **Combining** the results into a data structure\n"
   ]
  },
  {
   "cell_type": "code",
   "execution_count": null,
   "id": "b7063029",
   "metadata": {},
   "outputs": [],
   "source": [
    "\n",
    "# Grouping and then applying a function sum to the resulting groups.\n",
    "df = pd.DataFrame({'A' : ['foo', 'bar', 'foo', 'bar', 'foo', 'bar', 'foo', 'foo'],\n",
    "                   'B' : ['one', 'one', 'two', 'three', 'two', 'two', 'one', 'three'],\n",
    "                   'C' : np.random.randn(8),\n",
    "                   'D' : np.random.randn(8)})\n",
    "\n",
    "print(df.groupby('A').sum())\n",
    "\n",
    "# Grouping by multiple columns forms a hierarchical index, which we then apply the function.\n",
    "print(df.groupby(['A','B']).sum())"
   ]
  },
  {
   "cell_type": "markdown",
   "id": "c49b3cdc",
   "metadata": {},
   "source": [
    "\n",
    "## Reshaping\n",
    "\n",
    "There are several ways to reshape and pivot tables in pandas.\n"
   ]
  },
  {
   "cell_type": "code",
   "execution_count": null,
   "id": "21413294",
   "metadata": {},
   "outputs": [],
   "source": [
    "\n",
    "#Using a “stack” method on the DataFrame:\n",
    "tuples = list(zip(*[['bar', 'bar', 'baz', 'baz', 'foo', 'foo', 'qux', 'qux'],\n",
    "                    ['one', 'two', 'one', 'two', 'one', 'two', 'one', 'two']]))\n",
    "\n",
    "index = pd.MultiIndex.from_tuples(tuples, names=['first', 'second'])\n",
    "df = pd.DataFrame(np.random.randn(8, 2), index=index, columns=['A', 'B'])\n",
    "df2 = df[:4]\n",
    "\n",
    "df2.stack()\n",
    "\n",
    "#With a “pivot” method you can reshape the data:\n",
    "df = pd.DataFrame({'A' : ['one', 'one', 'two', 'three'] * 3,\n",
    "                   'B' : ['A', 'B', 'C'] * 4,\n",
    "                   'C' : ['foo', 'foo', 'foo', 'bar', 'bar', 'bar'] * 2,\n",
    "                   'D' : np.random.randn(12),\n",
    "                   'E' : np.random.randn(12)})\n",
    "\n",
    "print(df)\n",
    "print(df.pivot_table(values='D', index=['A', 'B'], columns=['C']))"
   ]
  },
  {
   "cell_type": "markdown",
   "id": "d5122346",
   "metadata": {},
   "source": [
    "\n",
    "## Data Visualization\n",
    "\n",
    "Pandas uses the plot() method to create diagrams.\n"
   ]
  },
  {
   "cell_type": "code",
   "execution_count": null,
   "id": "7f3581bc",
   "metadata": {},
   "outputs": [],
   "source": [
    "import matplotlib.pyplot as plt\n",
    "# For example, let's create a simple plot:\n",
    "ts = pd.Series(np.random.randn(1000), index=pd.date_range('1/1/2022', periods=1000))\n",
    "ts = ts.cumsum()\n",
    "ts.plot()\n",
    "\n",
    "# On DataFrame, the plot() method is a convenience to plot all of the columns with labels:\n",
    "df = pd.DataFrame(np.random.randn(1000, 4), index=ts.index, columns=['A', 'B', 'C', 'D'])\n",
    "df = df.cumsum()\n",
    "\n",
    "plt.figure()\n",
    "df.plot()\n",
    "plt.legend(loc='best')"
   ]
  },
  {
   "cell_type": "code",
   "execution_count": null,
   "id": "060be725",
   "metadata": {},
   "outputs": [],
   "source": [
    "\n",
    "## Working with Text Data\n",
    "\n",
    "#Pandas provides a set of string functions which make it easy to operate on string data. Most importantly, these functions ignore (or exclude) missing/NaN values.\n",
    "\n",
    "#Let's create a Series with text data and apply some string functions to it:\n",
    "s = pd.Series(['A', 'B', 'C', 'Aaba', 'Baca', np.nan, 'CABA', 'dog', 'cat'])\n",
    "\n",
    "# lowercasing the strings\n",
    "print(s.str.lower())\n",
    "\n",
    "# uppercasing\n",
    "print(s.str.upper())\n",
    "\n",
    "# length of the strings\n",
    "print(s.str.len())\n",
    "\n",
    "# splitting text\n",
    "print(s.str.split())\n"
   ]
  },
  {
   "cell_type": "code",
   "execution_count": null,
   "id": "58c979c9",
   "metadata": {},
   "outputs": [],
   "source": [
    "\n",
    "# Additional examples of string operations\n",
    "\n",
    "# replacing a substring\n",
    "print(s.str.replace('a', 'b'))\n",
    "\n",
    "# check if strings contain a pattern or regular expression\n",
    "print(s.str.contains('A'))\n",
    "\n",
    "# count occurrence of a pattern\n",
    "print(s.str.count('a'))\n",
    "\n",
    "# get the leading (left) and trailing (right) whitespaces removed\n",
    "s2 = pd.Series(['  A', 'B  ', '  C  '])\n",
    "print(s2.str.lstrip())  # leading spaces are removed\n",
    "print(s2.str.rstrip())  # trailing spaces are removed\n",
    "print(s2.str.strip())   # both leading and trailing spaces are removed"
   ]
  },
  {
   "cell_type": "markdown",
   "id": "7c693043",
   "metadata": {},
   "source": [
    "\n",
    "## Exploratory Data Analysis (EDA)\n",
    "\n",
    "Exploratory Data Analysis refers to the critical process of performing initial investigations on data so as to discover patterns, to spot anomalies, to test hypothesis and to check assumptions with the help of summary statistics and graphical representations.\n",
    "\n",
    "Pandas provide many methods to quickly explore your data and generate insightful information. Let's see some basic statistical details like percentile, mean and std of the numerical values of the Series or DataFrame:\n"
   ]
  },
  {
   "cell_type": "code",
   "execution_count": null,
   "id": "9de6df42",
   "metadata": {},
   "outputs": [],
   "source": [
    "\n",
    "df = pd.DataFrame(np.random.randn(8, 5), columns=['A', 'B', 'C', 'D', 'E'])\n",
    "\n",
    "# provides a statistical summary for all numeric columns\n",
    "print(df.describe())\n",
    "\n",
    "# you can also extract one particular metric if you want\n",
    "print(df.mean())  # mean across all columns\n",
    "print(df.std())   # standard deviation across all columns"
   ]
  },
  {
   "cell_type": "code",
   "execution_count": null,
   "id": "09fbf53a",
   "metadata": {},
   "outputs": [],
   "source": [
    "\n",
    "# Additional EDA examples\n",
    "\n",
    "# variance of the values\n",
    "print(df.var())\n",
    "\n",
    "# correlation between columns\n",
    "print(df.corr())\n",
    "\n",
    "# cumulative sum\n",
    "print(df.cumsum())\n",
    "\n",
    "# histogram\n",
    "print(df.hist())"
   ]
  },
  {
   "cell_type": "markdown",
   "id": "a7833b9e",
   "metadata": {},
   "source": [
    "\n",
    "## Control Structures\n",
    "\n",
    "Control structures are blocks of programming that analyze variables and choose directions in which to go based on given parameters. The two basic types of control structure relevant here are conditionals and loops.\n",
    "\n",
    "- **Conditionals** (if-else statements): These are used to perform different actions based on different conditions. Here is an example of a simple if-else statement:\n",
    "```python\n",
    "x = 10\n",
    "if x < 10:\n",
    "    print(\"x is less than 10\")\n",
    "elif x == 10:\n",
    "    print(\"x is exactly 10\")\n",
    "else:\n",
    "    print(\"x is greater than 10\")\n",
    "```\n",
    "- **Loops**: Python has two types of loops - for loops and while loops.\n",
    "\n",
    "    - A `for` loop is used for iterating over a sequence (that is either a list, a tuple, a dictionary, a set, or a string) or other iterable objects. Iterating over a sequence is called traversal. Here is an example of a simple for loop:\n",
    "\n",
    "    ```python\n",
    "    for i in range(5):\n",
    "        print(i)\n",
    "    ```\n",
    "\n",
    "    - A `while` loop statement in Python programming language repeatedly executes a target statement as long as a given condition is true. Here is an example of a simple while loop:\n",
    "\n",
    "    ```python\n",
    "    i = 0\n",
    "    while i < 5:\n",
    "        print(i)\n",
    "        i += 1\n",
    "    ```\n"
   ]
  },
  {
   "cell_type": "code",
   "execution_count": null,
   "id": "91675e05",
   "metadata": {},
   "outputs": [],
   "source": [
    "\n",
    "## Additional Control Structures Examples\n",
    "\n",
    "# Example of a if-elif-else chain\n",
    "x = 7\n",
    "if x < 10:\n",
    "    print(\"x is less than 10\")\n",
    "elif x < 15:\n",
    "    print(\"x is less than 15 but more than or equal to 10\")\n",
    "else:\n",
    "    print(\"x is greater than or equal to 15\")\n",
    "\n",
    "# Example of using for loop over a list with an else clause\n",
    "for i in [1, 2, 3, 4, 5]:\n",
    "    if i == 3:\n",
    "        break\n",
    "    print(i)\n",
    "else:\n",
    "    print(\"The loop has finished iterating over the sequence.\")\n",
    "\n",
    "# Example of a while loop with an else clause\n",
    "x = 0\n",
    "while x < 5:\n",
    "    print(x)\n",
    "    x += 1\n",
    "else:\n",
    "    print(\"x is no longer less than 5\")"
   ]
  }
 ],
 "metadata": {
  "kernelspec": {
   "display_name": "base",
   "language": "python",
   "name": "python3"
  },
  "language_info": {
   "name": "python",
   "version": "3.9.18"
  }
 },
 "nbformat": 4,
 "nbformat_minor": 5
}
