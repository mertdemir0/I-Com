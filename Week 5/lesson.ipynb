{
 "cells": [
  {
   "cell_type": "markdown",
   "id": "146be304",
   "metadata": {},
   "source": [
    "\n",
    "# Python Libraries for Data Analysis: `numpy` and `pandas`\n",
    "\n",
    "`numpy` and `pandas` are two of the most frequently used libraries for data analysis in Python.\n",
    "\n",
    "- `numpy`: This library provides support for numerical operations like linear algebra, Fourier transform, and random number capabilities. It's fundamental for scientific computing with Python.\n",
    "\n",
    "- `pandas`: This library provides data structures and data analysis tools. It's easily the most widely-used tool for data munging and preparation.\n",
    "\n",
    "Before using these libraries, we need to import them. The convention is to import `numpy` as `np` and `pandas` as `pd` as shown below.\n"
   ]
  },
  {
   "cell_type": "code",
   "execution_count": 2,
   "id": "15b05b7f",
   "metadata": {},
   "outputs": [],
   "source": [
    "import numpy as np\n",
    "import pandas as pd"
   ]
  },
  {
   "cell_type": "markdown",
   "id": "32927a74",
   "metadata": {},
   "source": [
    "\n",
    "## Numpy\n",
    "\n",
    "Numpy, which stands for 'Numerical Python', is a library consisting of multidimensional array objects and a collection of routines for processing of array. It is the core library for scientific computing in Python. It provides a high-performance multidimensional array object, and tools for working with these arrays.\n",
    "\n",
    "### Creating Arrays\n",
    "\n",
    "There are several ways to create arrays in Numpy. Here are a few examples:\n",
    "\n",
    "- `np.array()`: This function is used when we want to create an array from a list or tuple.\n",
    "\n",
    "- `np.zeros()`: This function is used when we want to create an array filled with zeroes.\n",
    "\n",
    "- `np.ones()`: This function is used when we want to create an array filled with ones.\n",
    "\n",
    "- `np.empty()`: This function is used when we want to create an array without initializing entries.\n",
    "\n",
    "- `np.arange()`: This function returns evenly spaced values within a given interval.\n",
    "\n",
    "- `np.linspace()`: This function is similar to `np.arange()`, but instead of step size, the number of evenly spaced values between the interval is specified.\n"
   ]
  },
  {
   "cell_type": "code",
   "execution_count": 21,
   "id": "9dba8089",
   "metadata": {},
   "outputs": [
    {
     "name": "stdout",
     "output_type": "stream",
     "text": [
      "a: [1 2 3]\n",
      "b: [[0. 0. 0.]\n",
      " [0. 0. 0.]\n",
      " [0. 0. 0.]]\n",
      "c: [[1. 1. 1. 1.]\n",
      " [1. 1. 1. 1.]\n",
      " [1. 1. 1. 1.]\n",
      " [1. 1. 1. 1.]]\n",
      "d: [[0.28597222 0.33722222 0.28597222]\n",
      " [1.36388889 2.44249396 0.33722222]]\n",
      "e: [10 15 20 25]\n",
      "f: [0.   0.25 0.5  0.75 1.   1.25 1.5  1.75 2.  ]\n"
     ]
    }
   ],
   "source": [
    "# Using np.array()\n",
    "a = np.array([1, 2, 3])\n",
    "print('a:', a)\n",
    "\n",
    "# Using np.zeros()\n",
    "b = np.zeros((3,3))\n",
    "print('b:', b)\n",
    "\n",
    "# Using np.ones()\n",
    "c = np.ones((4,4))\n",
    "print('c:', c)\n",
    "\n",
    "# Using np.empty()\n",
    "d = np.empty((2,3))\n",
    "print('d:', d)\n",
    "\n",
    "# Using np.arange()\n",
    "e = np.arange(10, 30, 5)\n",
    "print('e:', e)\n",
    "\n",
    "# Using np.linspace()\n",
    "f = np.linspace(0, 2, 9)\n",
    "print('f:', f)"
   ]
  },
  {
   "cell_type": "markdown",
   "id": "ae8e47c6",
   "metadata": {},
   "source": [
    "\n",
    "### Accessing and modifying elements\n",
    "\n",
    "Elements in a numpy array can be accessed and modified using indices and slices, just like Python lists. Here are some examples:\n"
   ]
  },
  {
   "cell_type": "code",
   "execution_count": 4,
   "id": "6dc244ef",
   "metadata": {},
   "outputs": [
    {
     "name": "stdout",
     "output_type": "stream",
     "text": [
      "First element: 2\n",
      "Second element: 4\n",
      "Last element: 10\n",
      "Modified array: [12  4  6  8  0]\n"
     ]
    }
   ],
   "source": [
    "# Declare numpy array\n",
    "arr = np.array([2, 4, 6, 8, 10])\n",
    "\n",
    "#Access elements\n",
    "print('First element:', arr[0])\n",
    "print('Second element:', arr[1])\n",
    "print('Last element:', arr[-1])\n",
    "\n",
    "#Modify elements\n",
    "arr[0] = 12\n",
    "arr[-1] = 0\n",
    "print('Modified array:', arr)"
   ]
  },
  {
   "cell_type": "markdown",
   "id": "b087b187",
   "metadata": {},
   "source": [
    "\n",
    "### Basic Operations\n",
    "\n",
    " - Arithmetic operators can be used on arrays to perform element-wise operation.\n",
    "\n",
    " - The product operator `*` operates elementwise in NumPy arrays. The matrix product can be performed using the `@` operator (in python >=3.5) or the `dot` function or method.\n",
    "\n",
    " - Some operations, such as `+=` and `*=`, act in place to modify an existing array rather than create a new one.\n",
    "\n",
    " - NumPy provides familiar mathematical functions such as sin, cos, and exp. In NumPy, these are called “universal functions”(ufunc). Within NumPy, these functions operate elementwise on an array, producing an array as output.\n"
   ]
  },
  {
   "cell_type": "code",
   "execution_count": 26,
   "id": "45779061",
   "metadata": {},
   "outputs": [
    {
     "name": "stdout",
     "output_type": "stream",
     "text": [
      "Subtraction: [20 29 38 47]\n",
      "Square: [0 1 4 9]\n",
      "Conditional: [ True  True False False]\n",
      "Modified: [20 29 38 47]\n"
     ]
    }
   ],
   "source": [
    "# Declare arrays\n",
    "a = np.array([20, 30, 40, 50])\n",
    "b = np.arange(4)\n",
    "\n",
    "# Subtraction\n",
    "print('Subtraction:', a-b)\n",
    "\n",
    "# Square\n",
    "print('Square:', b**2)\n",
    "\n",
    "# Conditional operations\n",
    "print('Conditional:', a<35)\n",
    "\n",
    "# Modify existing array\n",
    "a -= b\n",
    "print('Modified:', a)\n"
   ]
  },
  {
   "cell_type": "markdown",
   "id": "7538ab15",
   "metadata": {},
   "source": [
    "\n",
    "### Numpy functions\n",
    "\n",
    "Sum, Min, Max, and Cumulative sum:\n",
    "\n"
   ]
  },
  {
   "cell_type": "code",
   "execution_count": 27,
   "id": "5fcc5bbf",
   "metadata": {},
   "outputs": [
    {
     "name": "stdout",
     "output_type": "stream",
     "text": [
      "Sum: 140\n",
      "Min: 20\n",
      "Max: 50\n",
      "Cumulative sum: [ 20  50  90 140]\n"
     ]
    }
   ],
   "source": [
    "# Declare arrays\n",
    "a = np.array([20, 30, 40, 50])\n",
    "\n",
    "# Sum\n",
    "print('Sum:', a.sum())\n",
    "\n",
    "# Min\n",
    "print('Min:', a.min())\n",
    "\n",
    "# Max\n",
    "print('Max:', a.max())\n",
    "\n",
    "# Cumulative sum\n",
    "print('Cumulative sum:', a.cumsum())"
   ]
  },
  {
   "cell_type": "markdown",
   "id": "f9f30cdf",
   "metadata": {},
   "source": [
    "\n",
    "## Pandas\n",
    "\n",
    "Pandas is the most popular python library that is used for data analysis. It provides highly optimized performance with back-end source code is purely written in C or Python.\n",
    "\n",
    "We can analyze data in pandas with:\n",
    "\n",
    "- Series\n",
    "- DataFrames\n",
    "\n",
    "Series is one dimensional(1-D) array defined in pandas that can be used to store any data type.\n",
    "\n",
    "DataFrames is two-dimensional(2-D) data structure defined in pandas which consists of rows and columns.\n",
    "\n",
    "### Series\n",
    "\n",
    "Creating a series by passing a list of values, letting pandas create a default integer index.\n"
   ]
  },
  {
   "cell_type": "code",
   "execution_count": 7,
   "id": "f4b2bbbd",
   "metadata": {},
   "outputs": [
    {
     "name": "stdout",
     "output_type": "stream",
     "text": [
      "0    1.0\n",
      "1    3.0\n",
      "2    5.0\n",
      "3    NaN\n",
      "4    6.0\n",
      "5    8.0\n",
      "dtype: float64\n"
     ]
    }
   ],
   "source": [
    "import pandas as pd\n",
    "s = pd.Series([1, 3, 5, np.nan, 6, 8])\n",
    "print(s)"
   ]
  },
  {
   "cell_type": "markdown",
   "id": "f33a1368",
   "metadata": {},
   "source": [
    "\n",
    "### DataFrame\n",
    "\n",
    "A DataFrame is a two-dimensional array with labeled axes. In general, you can think of it like a dictionary of Series objects, and it's the most commonly used pandas object.\n",
    "\n",
    "Here are some ways you can create DataFrame.\n"
   ]
  },
  {
   "cell_type": "code",
   "execution_count": 8,
   "id": "be422e8a",
   "metadata": {},
   "outputs": [
    {
     "name": "stdout",
     "output_type": "stream",
     "text": [
      "                   A         B         C         D\n",
      "2013-01-01  0.701082 -1.965152 -0.263580  1.934119\n",
      "2013-01-02 -0.246206  0.707938  0.093467 -0.225939\n",
      "2013-01-03 -1.651330 -1.393407 -0.810178 -2.049808\n",
      "2013-01-04 -0.732884  0.441710 -1.999726  1.256805\n",
      "2013-01-05 -0.982896 -3.006419  1.511834  0.642224\n",
      "2013-01-06 -0.958420 -0.760130 -0.648177  0.303477\n",
      "   age     name\n",
      "0   22    Henry\n",
      "1   25  Micheal\n",
      "2   27  Charles\n",
      "3   29    James\n",
      "4   31   Andrew\n"
     ]
    }
   ],
   "source": [
    "\n",
    "# Creating a DataFrame by passing a numpy array, with datetime index and labeled columns:\n",
    "dates = pd.date_range('20130101', periods=6)\n",
    "df = pd.DataFrame(np.random.randn(6, 4), index=dates, columns=list('ABCD'))\n",
    "print(df)\n",
    "\n",
    "# Creating a DataFrame by passing a dict of objects that can be converted to series-like.\n",
    "age = [22, 25, 27, 29, 31]\n",
    "name = ['Henry', 'Micheal', 'Charles', 'James', 'Andrew']\n",
    "df = pd.DataFrame({'age': age, 'name': name})\n",
    "print(df)"
   ]
  },
  {
   "cell_type": "markdown",
   "id": "06f9e34a",
   "metadata": {},
   "source": [
    "\n",
    "## Data Viewing and Selection\n",
    "\n",
    "Pandas provides various methods to have a look at the data and select it.\n"
   ]
  },
  {
   "cell_type": "code",
   "execution_count": 9,
   "id": "6e7fe5ef",
   "metadata": {},
   "outputs": [
    {
     "name": "stdout",
     "output_type": "stream",
     "text": [
      "Head:\n",
      "                   A         B         C         D\n",
      "2013-01-01 -0.667283 -0.125106  0.040883  0.119143\n",
      "2013-01-02 -0.671386 -0.222505 -0.177400  0.074609\n",
      "2013-01-03  0.893055  0.306280  0.773395  0.712724\n",
      "2013-01-04  1.049323  0.898770  0.795576  1.225002\n",
      "2013-01-05  0.153283 -1.810572  0.387320 -0.735093\n",
      "Tail:\n",
      "                   A         B         C         D\n",
      "2013-01-04  1.049323  0.898770  0.795576  1.225002\n",
      "2013-01-05  0.153283 -1.810572  0.387320 -0.735093\n",
      "2013-01-06 -1.107420 -1.267478  1.041906  1.484794\n",
      "Index:\n",
      "DatetimeIndex(['2013-01-01', '2013-01-02', '2013-01-03', '2013-01-04',\n",
      "               '2013-01-05', '2013-01-06'],\n",
      "              dtype='datetime64[ns]', freq='D')\n",
      "Columns:\n",
      "Index(['A', 'B', 'C', 'D'], dtype='object')\n",
      "To NumPy:\n",
      "[[-0.66728316 -0.12510632  0.04088335  0.11914276]\n",
      " [-0.67138631 -0.22250548 -0.1774002   0.07460935]\n",
      " [ 0.89305518  0.30628041  0.77339494  0.71272405]\n",
      " [ 1.049323    0.89876989  0.79557646  1.22500174]\n",
      " [ 0.15328301 -1.81057213  0.38732032 -0.73509334]\n",
      " [-1.10742044 -1.26747782  1.04190642  1.48479353]]\n",
      "Describe:\n",
      "              A         B         C         D\n",
      "count  6.000000  6.000000  6.000000  6.000000\n",
      "mean  -0.058405 -0.370102  0.476947  0.480196\n",
      "std    0.897113  1.002953  0.476433  0.823384\n",
      "min   -1.107420 -1.810572 -0.177400 -0.735093\n",
      "25%   -0.670361 -1.006235  0.127493  0.085743\n",
      "50%   -0.257000 -0.173806  0.580358  0.415933\n",
      "75%    0.708112  0.198434  0.790031  1.096932\n",
      "max    1.049323  0.898770  1.041906  1.484794\n",
      "Column A:\n",
      "2013-01-01   -0.667283\n",
      "2013-01-02   -0.671386\n",
      "2013-01-03    0.893055\n",
      "2013-01-04    1.049323\n",
      "2013-01-05    0.153283\n",
      "2013-01-06   -1.107420\n",
      "Freq: D, Name: A, dtype: float64\n",
      "Slice:\n",
      "                   A         B         C         D\n",
      "2013-01-02 -0.671386 -0.222505 -0.177400  0.074609\n",
      "2013-01-03  0.893055  0.306280  0.773395  0.712724\n",
      "Cross section:\n",
      "A   -0.667283\n",
      "B   -0.125106\n",
      "C    0.040883\n",
      "D    0.119143\n",
      "Name: 2013-01-01 00:00:00, dtype: float64\n",
      "Multi-axis selection:\n",
      "                   A         B\n",
      "2013-01-01 -0.667283 -0.125106\n",
      "2013-01-02 -0.671386 -0.222505\n",
      "2013-01-03  0.893055  0.306280\n",
      "2013-01-04  1.049323  0.898770\n",
      "2013-01-05  0.153283 -1.810572\n",
      "2013-01-06 -1.107420 -1.267478\n",
      "Boolean array:\n",
      "                   A        B         C         D\n",
      "2013-01-01       NaN      NaN  0.040883  0.119143\n",
      "2013-01-02       NaN      NaN       NaN  0.074609\n",
      "2013-01-03  0.893055  0.30628  0.773395  0.712724\n",
      "2013-01-04  1.049323  0.89877  0.795576  1.225002\n",
      "2013-01-05  0.153283      NaN  0.387320       NaN\n",
      "2013-01-06       NaN      NaN  1.041906  1.484794\n"
     ]
    }
   ],
   "source": [
    "\n",
    "## Viewing Data\n",
    "\n",
    "# Here is how to view the top and bottom rows of the frame:\n",
    "df = pd.DataFrame(np.random.randn(6, 4), index=dates, columns=list('ABCD'))\n",
    "print('Head:')\n",
    "print(df.head())\n",
    "\n",
    "print('Tail:')\n",
    "print(df.tail(3))\n",
    "\n",
    "# Display the index, columns:\n",
    "print('Index:')\n",
    "print(df.index)\n",
    "\n",
    "print('Columns:')\n",
    "print(df.columns)\n",
    "\n",
    "# DataFrame.to_numpy() gives a NumPy representation of the underlying data.\n",
    "# Note that this can be an expensive operation when your DataFrame has columns with different data types\n",
    "print('To NumPy:')\n",
    "print(df.to_numpy())\n",
    "\n",
    "# describe() shows a quick statistic summary of your data:\n",
    "print('Describe:')\n",
    "print(df.describe())\n",
    "\n",
    "## Selection\n",
    "\n",
    "# Selecting a single column, which yields a Series, equivalent to df.A:\n",
    "print('Column A:')\n",
    "print(df['A'])\n",
    "\n",
    "# Selecting via [], which slices the rows.\n",
    "print('Slice:')\n",
    "print(df[1:3])\n",
    "\n",
    "# For getting a cross section using a label:\n",
    "print('Cross section:')\n",
    "print(df.loc[dates[0]])\n",
    "\n",
    "# Selecting on a multi-axis by label:\n",
    "print('Multi-axis selection:')\n",
    "print(df.loc[:, ['A', 'B']])\n",
    "\n",
    "# For getting values with a boolean array:\n",
    "print('Boolean array:')\n",
    "print(df[df > 0])\n"
   ]
  },
  {
   "cell_type": "markdown",
   "id": "4ff63e8c",
   "metadata": {},
   "source": [
    "\n",
    "## Missing Data\n",
    "\n",
    "Pandas uses the value NaN to represent missing data. It is by default not included in computations. Here are some ways to handle missing data.\n"
   ]
  },
  {
   "cell_type": "code",
   "execution_count": 10,
   "id": "e10e6377",
   "metadata": {},
   "outputs": [
    {
     "data": {
      "text/html": [
       "<div>\n",
       "<style scoped>\n",
       "    .dataframe tbody tr th:only-of-type {\n",
       "        vertical-align: middle;\n",
       "    }\n",
       "\n",
       "    .dataframe tbody tr th {\n",
       "        vertical-align: top;\n",
       "    }\n",
       "\n",
       "    .dataframe thead th {\n",
       "        text-align: right;\n",
       "    }\n",
       "</style>\n",
       "<table border=\"1\" class=\"dataframe\">\n",
       "  <thead>\n",
       "    <tr style=\"text-align: right;\">\n",
       "      <th></th>\n",
       "      <th>A</th>\n",
       "      <th>B</th>\n",
       "      <th>C</th>\n",
       "      <th>D</th>\n",
       "    </tr>\n",
       "  </thead>\n",
       "  <tbody>\n",
       "    <tr>\n",
       "      <th>2013-01-01</th>\n",
       "      <td>False</td>\n",
       "      <td>False</td>\n",
       "      <td>False</td>\n",
       "      <td>False</td>\n",
       "    </tr>\n",
       "    <tr>\n",
       "      <th>2013-01-02</th>\n",
       "      <td>False</td>\n",
       "      <td>False</td>\n",
       "      <td>False</td>\n",
       "      <td>False</td>\n",
       "    </tr>\n",
       "    <tr>\n",
       "      <th>2013-01-03</th>\n",
       "      <td>False</td>\n",
       "      <td>False</td>\n",
       "      <td>False</td>\n",
       "      <td>False</td>\n",
       "    </tr>\n",
       "    <tr>\n",
       "      <th>2013-01-04</th>\n",
       "      <td>False</td>\n",
       "      <td>False</td>\n",
       "      <td>False</td>\n",
       "      <td>False</td>\n",
       "    </tr>\n",
       "    <tr>\n",
       "      <th>2013-01-05</th>\n",
       "      <td>False</td>\n",
       "      <td>False</td>\n",
       "      <td>False</td>\n",
       "      <td>False</td>\n",
       "    </tr>\n",
       "    <tr>\n",
       "      <th>2013-01-06</th>\n",
       "      <td>False</td>\n",
       "      <td>False</td>\n",
       "      <td>False</td>\n",
       "      <td>False</td>\n",
       "    </tr>\n",
       "  </tbody>\n",
       "</table>\n",
       "</div>"
      ],
      "text/plain": [
       "                A      B      C      D\n",
       "2013-01-01  False  False  False  False\n",
       "2013-01-02  False  False  False  False\n",
       "2013-01-03  False  False  False  False\n",
       "2013-01-04  False  False  False  False\n",
       "2013-01-05  False  False  False  False\n",
       "2013-01-06  False  False  False  False"
      ]
     },
     "execution_count": 10,
     "metadata": {},
     "output_type": "execute_result"
    }
   ],
   "source": [
    "\n",
    "## Missing data\n",
    "\n",
    "# You can drop any rows that have missing data:\n",
    "df.dropna(how=\"any\")\n",
    "\n",
    "# You can filling missing data:\n",
    "df.fillna(value=5)\n",
    "\n",
    "# To get the boolean mask where values are nan:\n",
    "pd.isna(df)"
   ]
  },
  {
   "cell_type": "markdown",
   "id": "8bee7e94",
   "metadata": {},
   "source": [
    "\n",
    "## Operations\n",
    "\n",
    "Pandas provides various methods to perform operations on dataframe.\n"
   ]
  },
  {
   "cell_type": "code",
   "execution_count": 11,
   "id": "7a7093d2",
   "metadata": {},
   "outputs": [
    {
     "data": {
      "text/plain": [
       "1    2\n",
       "3    2\n",
       "4    2\n",
       "6    1\n",
       "0    1\n",
       "5    1\n",
       "2    1\n",
       "Name: count, dtype: int64"
      ]
     },
     "execution_count": 11,
     "metadata": {},
     "output_type": "execute_result"
    }
   ],
   "source": [
    "\n",
    "# Performing descriptive statistics:\n",
    "df.mean()\n",
    "\n",
    "# On the other hand, operating with objects that have different dimensionality and need alignment. In addition, pandas automatically broadcasts along the specified dimension.\n",
    "s = pd.Series([1, 3, 5, np.nan, 6, 8], index=dates).shift(2)\n",
    "df.sub(s, axis='index')\n",
    "\n",
    "# Applying functions to the data:\n",
    "df.apply(np.cumsum)\n",
    "df.apply(lambda x: x.max() - x.min())\n",
    "\n",
    "# Histogramming:\n",
    "s = pd.Series(np.random.randint(0, 7, size=10))\n",
    "s.value_counts()"
   ]
  },
  {
   "cell_type": "markdown",
   "id": "1533ed80",
   "metadata": {},
   "source": [
    "\n",
    "## Merge\n",
    "\n",
    "Pandas provides various ways to combine Series, DataFrame, and Panel objects with various kinds of set logic for the indexes and relational algebra functionality in the case of join / merge-type operations.\n"
   ]
  },
  {
   "cell_type": "markdown",
   "id": "a0e35992",
   "metadata": {},
   "source": [
    "\n",
    "## Grouping\n",
    "\n",
    "By \"group by\" we are referring to a process involving one or more of the following steps:\n",
    "\n",
    "- **Splitting** the data into groups based on some criteria\n",
    "- **Applying** a function to each group independently\n",
    "- **Combining** the results into a data structure\n"
   ]
  },
  {
   "cell_type": "code",
   "execution_count": 12,
   "id": "b7063029",
   "metadata": {},
   "outputs": [
    {
     "name": "stdout",
     "output_type": "stream",
     "text": [
      "                     B         C         D\n",
      "A                                         \n",
      "bar        onethreetwo -3.176066 -0.500100\n",
      "foo  onetwotwoonethree -4.930806 -0.057027\n",
      "                  C         D\n",
      "A   B                        \n",
      "bar one   -1.140576 -2.637809\n",
      "    three -0.633418  2.006046\n",
      "    two   -1.402072  0.131664\n",
      "foo one   -3.015613 -1.324736\n",
      "    three  0.816543 -0.546373\n",
      "    two   -2.731736  1.814082\n"
     ]
    }
   ],
   "source": [
    "\n",
    "# Grouping and then applying a function sum to the resulting groups.\n",
    "df = pd.DataFrame({'A' : ['foo', 'bar', 'foo', 'bar', 'foo', 'bar', 'foo', 'foo'],\n",
    "                   'B' : ['one', 'one', 'two', 'three', 'two', 'two', 'one', 'three'],\n",
    "                   'C' : np.random.randn(8),\n",
    "                   'D' : np.random.randn(8)})\n",
    "\n",
    "print(df.groupby('A').sum())\n",
    "\n",
    "# Grouping by multiple columns forms a hierarchical index, which we then apply the function.\n",
    "print(df.groupby(['A','B']).sum())"
   ]
  },
  {
   "cell_type": "markdown",
   "id": "c49b3cdc",
   "metadata": {},
   "source": [
    "\n",
    "## Reshaping\n",
    "\n",
    "There are several ways to reshape and pivot tables in pandas.\n"
   ]
  },
  {
   "cell_type": "code",
   "execution_count": 13,
   "id": "21413294",
   "metadata": {},
   "outputs": [
    {
     "name": "stdout",
     "output_type": "stream",
     "text": [
      "        A  B    C         D         E\n",
      "0     one  A  foo  0.846900 -1.661336\n",
      "1     one  B  foo  0.079956  1.482202\n",
      "2     two  C  foo -0.979383 -0.128041\n",
      "3   three  A  bar -0.724336  0.000584\n",
      "4     one  B  bar  0.802428 -1.120342\n",
      "5     one  C  bar  2.224189 -1.460111\n",
      "6     two  A  foo  1.068772  0.883967\n",
      "7   three  B  foo -2.318808 -1.529766\n",
      "8     one  C  foo -0.752342 -0.173057\n",
      "9     one  A  bar  0.293251  0.439472\n",
      "10    two  B  bar -0.080840 -0.136500\n",
      "11  three  C  bar -0.870590 -1.414676\n",
      "C             bar       foo\n",
      "A     B                    \n",
      "one   A  0.293251  0.846900\n",
      "      B  0.802428  0.079956\n",
      "      C  2.224189 -0.752342\n",
      "three A -0.724336       NaN\n",
      "      B       NaN -2.318808\n",
      "      C -0.870590       NaN\n",
      "two   A       NaN  1.068772\n",
      "      B -0.080840       NaN\n",
      "      C       NaN -0.979383\n"
     ]
    }
   ],
   "source": [
    "\n",
    "#Using a “stack” method on the DataFrame:\n",
    "tuples = list(zip(*[['bar', 'bar', 'baz', 'baz', 'foo', 'foo', 'qux', 'qux'],\n",
    "                    ['one', 'two', 'one', 'two', 'one', 'two', 'one', 'two']]))\n",
    "\n",
    "index = pd.MultiIndex.from_tuples(tuples, names=['first', 'second'])\n",
    "df = pd.DataFrame(np.random.randn(8, 2), index=index, columns=['A', 'B'])\n",
    "df2 = df[:4]\n",
    "\n",
    "df2.stack()\n",
    "\n",
    "#With a “pivot” method you can reshape the data:\n",
    "df = pd.DataFrame({'A' : ['one', 'one', 'two', 'three'] * 3,\n",
    "                   'B' : ['A', 'B', 'C'] * 4,\n",
    "                   'C' : ['foo', 'foo', 'foo', 'bar', 'bar', 'bar'] * 2,\n",
    "                   'D' : np.random.randn(12),\n",
    "                   'E' : np.random.randn(12)})\n",
    "\n",
    "print(df)\n",
    "print(df.pivot_table(values='D', index=['A', 'B'], columns=['C']))"
   ]
  },
  {
   "cell_type": "markdown",
   "id": "d5122346",
   "metadata": {},
   "source": [
    "\n",
    "## Data Visualization\n",
    "\n",
    "Pandas uses the plot() method to create diagrams.\n"
   ]
  },
  {
   "cell_type": "code",
   "execution_count": 14,
   "id": "7f3581bc",
   "metadata": {},
   "outputs": [
    {
     "data": {
      "text/plain": [
       "<matplotlib.legend.Legend at 0x1481a8940>"
      ]
     },
     "execution_count": 14,
     "metadata": {},
     "output_type": "execute_result"
    },
    {
     "data": {
      "image/png": "[encoded data removed]",
      "text/plain": [
       "<Figure size 640x480 with 1 Axes>"
      ]
     },
     "metadata": {},
     "output_type": "display_data"
    },
    {
     "data": {
      "text/plain": [
       "<Figure size 640x480 with 0 Axes>"
      ]
     },
     "metadata": {},
     "output_type": "display_data"
    },
    {
     "data": {
      "image/png": "[encoded data removed]",
      "text/plain": [
       "<Figure size 640x480 with 1 Axes>"
      ]
     },
     "metadata": {},
     "output_type": "display_data"
    }
   ],
   "source": [
    "import matplotlib.pyplot as plt\n",
    "\n",
    "\n",
    "# For example, let's create a simple plot:\n",
    "ts = pd.Series(np.random.randn(1000), index=pd.date_range('1/1/2022', periods=1000))\n",
    "ts = ts.cumsum()\n",
    "ts.plot()\n",
    "\n",
    "# On DataFrame, the plot() method is a convenience to plot all of the columns with labels:\n",
    "df = pd.DataFrame(np.random.randn(1000, 4), index=ts.index, columns=['A', 'B', 'C', 'D'])\n",
    "df = df.cumsum()\n",
    "\n",
    "plt.figure()\n",
    "df.plot()\n",
    "plt.legend(loc='best')"
   ]
  },
  {
   "cell_type": "code",
   "execution_count": 15,
   "id": "060be725",
   "metadata": {},
   "outputs": [
    {
     "name": "stdout",
     "output_type": "stream",
     "text": [
      "0       a\n",
      "1       b\n",
      "2       c\n",
      "3    aaba\n",
      "4    baca\n",
      "5     NaN\n",
      "6    caba\n",
      "7     dog\n",
      "8     cat\n",
      "dtype: object\n",
      "0       A\n",
      "1       B\n",
      "2       C\n",
      "3    AABA\n",
      "4    BACA\n",
      "5     NaN\n",
      "6    CABA\n",
      "7     DOG\n",
      "8     CAT\n",
      "dtype: object\n",
      "0    1.0\n",
      "1    1.0\n",
      "2    1.0\n",
      "3    4.0\n",
      "4    4.0\n",
      "5    NaN\n",
      "6    4.0\n",
      "7    3.0\n",
      "8    3.0\n",
      "dtype: float64\n",
      "0       [A]\n",
      "1       [B]\n",
      "2       [C]\n",
      "3    [Aaba]\n",
      "4    [Baca]\n",
      "5       NaN\n",
      "6    [CABA]\n",
      "7     [dog]\n",
      "8     [cat]\n",
      "dtype: object\n"
     ]
    }
   ],
   "source": [
    "\n",
    "## Working with Text Data\n",
    "\n",
    "#Pandas provides a set of string functions which make it easy to operate on string data. Most importantly, these functions ignore (or exclude) missing/NaN values.\n",
    "\n",
    "#Let's create a Series with text data and apply some string functions to it:\n",
    "s = pd.Series(['A', 'B', 'C', 'Aaba', 'Baca', np.nan, 'CABA', 'dog', 'cat'])\n",
    "\n",
    "# lowercasing the strings\n",
    "print(s.str.lower())\n",
    "\n",
    "# uppercasing\n",
    "print(s.str.upper())\n",
    "\n",
    "# length of the strings\n",
    "print(s.str.len())\n",
    "\n",
    "# splitting text\n",
    "print(s.str.split())\n"
   ]
  },
  {
   "cell_type": "markdown",
   "id": "7c693043",
   "metadata": {},
   "source": [
    "\n",
    "## Exploratory Data Analysis (EDA)\n",
    "\n",
    "Exploratory Data Analysis refers to the critical process of performing initial investigations on data so as to discover patterns, to spot anomalies, to test hypothesis and to check assumptions with the help of summary statistics and graphical representations.\n",
    "\n",
    "Pandas provide many methods to quickly explore your data and generate insightful information. Let's see some basic statistical details like percentile, mean and std of the numerical values of the Series or DataFrame:\n"
   ]
  },
  {
   "cell_type": "code",
   "execution_count": 16,
   "id": "9de6df42",
   "metadata": {},
   "outputs": [
    {
     "name": "stdout",
     "output_type": "stream",
     "text": [
      "              A         B         C         D         E\n",
      "count  8.000000  8.000000  8.000000  8.000000  8.000000\n",
      "mean   0.000440 -0.272728 -0.034658  0.478116 -0.779454\n",
      "std    0.761233  1.227916  0.846946  0.657969  0.677402\n",
      "min   -1.465481 -2.554451 -1.283136 -0.527626 -1.741087\n",
      "25%   -0.298487 -0.748349 -0.407705  0.104461 -1.344923\n",
      "50%    0.088727 -0.233263  0.115406  0.610741 -0.612210\n",
      "75%    0.474964  0.428400  0.519503  0.822533 -0.179957\n",
      "max    0.838495  1.232436  0.889013  1.348748 -0.122578\n",
      "A    0.000440\n",
      "B   -0.272728\n",
      "C   -0.034658\n",
      "D    0.478116\n",
      "E   -0.779454\n",
      "dtype: float64\n",
      "A    0.761233\n",
      "B    1.227916\n",
      "C    0.846946\n",
      "D    0.657969\n",
      "E    0.677402\n",
      "dtype: float64\n"
     ]
    }
   ],
   "source": [
    "\n",
    "df = pd.DataFrame(np.random.randn(8, 5), columns=['A', 'B', 'C', 'D', 'E'])\n",
    "\n",
    "# provides a statistical summary for all numeric columns\n",
    "print(df.describe())\n",
    "\n",
    "# you can also extract one particular metric if you want\n",
    "print(df.mean())  # mean across all columns\n",
    "print(df.std())   # standard deviation across all columns"
   ]
  },
  {
   "cell_type": "markdown",
   "id": "a7833b9e",
   "metadata": {},
   "source": [
    "\n",
    "## Control Structures\n",
    "\n",
    "Control structures are blocks of programming that analyze variables and choose directions in which to go based on given parameters. The two basic types of control structure relevant here are conditionals and loops.\n",
    "\n",
    "- **Conditionals** (if-else statements): These are used to perform different actions based on different conditions. Here is an example of a simple if-else statement:\n",
    "```python\n",
    "x = 10\n",
    "if x < 10:\n",
    "    print(\"x is less than 10\")\n",
    "elif x == 10:\n",
    "    print(\"x is exactly 10\")\n",
    "else:\n",
    "    print(\"x is greater than 10\")\n",
    "```\n",
    "- **Loops**: Python has two types of loops - for loops and while loops.\n",
    "\n",
    "    - A `for` loop is used for iterating over a sequence (that is either a list, a tuple, a dictionary, a set, or a string) or other iterable objects. Iterating over a sequence is called traversal. Here is an example of a simple for loop:\n",
    "\n",
    "    ```python\n",
    "    for i in range(5):\n",
    "        print(i)\n",
    "    ```\n",
    "\n",
    "    - A `while` loop statement in Python programming language repeatedly executes a target statement as long as a given condition is true. Here is an example of a simple while loop:\n",
    "\n",
    "    ```python\n",
    "    i = 0\n",
    "    while i < 5:\n",
    "        print(i)\n",
    "        i += 1\n",
    "    ```\n"
   ]
  },
  {
   "cell_type": "code",
   "execution_count": 17,
   "id": "58c979c9",
   "metadata": {},
   "outputs": [
    {
     "name": "stdout",
     "output_type": "stream",
     "text": [
      "0       A\n",
      "1       B\n",
      "2       C\n",
      "3    Abbb\n",
      "4    Bbcb\n",
      "5     NaN\n",
      "6    CABA\n",
      "7     dog\n",
      "8     cbt\n",
      "dtype: object\n",
      "0     True\n",
      "1    False\n",
      "2    False\n",
      "3     True\n",
      "4    False\n",
      "5      NaN\n",
      "6     True\n",
      "7    False\n",
      "8    False\n",
      "dtype: object\n",
      "0    0.0\n",
      "1    0.0\n",
      "2    0.0\n",
      "3    2.0\n",
      "4    2.0\n",
      "5    NaN\n",
      "6    0.0\n",
      "7    0.0\n",
      "8    1.0\n",
      "dtype: float64\n",
      "0      A\n",
      "1    B  \n",
      "2    C  \n",
      "dtype: object\n",
      "0      A\n",
      "1      B\n",
      "2      C\n",
      "dtype: object\n",
      "0    A\n",
      "1    B\n",
      "2    C\n",
      "dtype: object\n"
     ]
    }
   ],
   "source": [
    "\n",
    "# Additional examples of string operations\n",
    "\n",
    "# replacing a substring\n",
    "print(s.str.replace('a', 'b'))\n",
    "\n",
    "# check if strings contain a pattern or regular expression\n",
    "print(s.str.contains('A'))\n",
    "\n",
    "# count occurrence of a pattern\n",
    "print(s.str.count('a'))\n",
    "\n",
    "# get the leading (left) and trailing (right) whitespaces removed\n",
    "s2 = pd.Series(['  A', 'B  ', '  C  '])\n",
    "print(s2.str.lstrip())  # leading spaces are removed\n",
    "print(s2.str.rstrip())  # trailing spaces are removed\n",
    "print(s2.str.strip())   # both leading and trailing spaces are removed"
   ]
  },
  {
   "cell_type": "code",
   "execution_count": 18,
   "id": "09fbf53a",
   "metadata": {},
   "outputs": [
    {
     "name": "stdout",
     "output_type": "stream",
     "text": [
      "A    0.579476\n",
      "B    1.507779\n",
      "C    0.717317\n",
      "D    0.432924\n",
      "E    0.458873\n",
      "dtype: float64\n",
      "          A         B         C         D         E\n",
      "A  1.000000 -0.166810 -0.072551 -0.057190  0.746088\n",
      "B -0.166810  1.000000  0.056010  0.492906 -0.074515\n",
      "C -0.072551  0.056010  1.000000  0.375365 -0.194319\n",
      "D -0.057190  0.492906  0.375365  1.000000 -0.007772\n",
      "E  0.746088 -0.074515 -0.194319 -0.007772  1.000000\n",
      "          A         B         C         D         E\n",
      "0 -1.465481  1.232436 -0.125832  1.152732 -1.294105\n",
      "1 -0.627362  2.389164 -1.408967  1.710714 -1.468286\n",
      "2  0.211133  1.760282 -1.096015  3.059462 -1.695648\n",
      "3  0.143644  1.945906 -0.207002  3.309824 -3.193027\n",
      "4  0.388586  1.755581 -0.289142  2.976583 -3.374909\n",
      "5 -0.122908  1.479380  0.117262  3.689050 -5.115996\n",
      "6  0.231004  0.372630  0.976062  4.352551 -5.238574\n",
      "7  0.003519 -2.181821 -0.277265  3.824924 -6.235632\n",
      "[[<Axes: title={'center': 'A'}> <Axes: title={'center': 'B'}>]\n",
      " [<Axes: title={'center': 'C'}> <Axes: title={'center': 'D'}>]\n",
      " [<Axes: title={'center': 'E'}> <Axes: >]]\n"
     ]
    },
    {
     "data": {
      "image/png": "[encoded data removed]",
      "text/plain": [
       "<Figure size 640x480 with 6 Axes>"
      ]
     },
     "metadata": {},
     "output_type": "display_data"
    }
   ],
   "source": [
    "\n",
    "# Additional EDA examples\n",
    "\n",
    "# variance of the values\n",
    "print(df.var())\n",
    "\n",
    "# correlation between columns\n",
    "print(df.corr())\n",
    "\n",
    "# cumulative sum\n",
    "print(df.cumsum())\n",
    "\n",
    "# histogram\n",
    "print(df.hist())"
   ]
  },
  {
   "cell_type": "code",
   "execution_count": null,
   "id": "91675e05",
   "metadata": {},
   "outputs": [],
   "source": [
    "\n",
    "## Additional Control Structures Examples\n",
    "\n",
    "# Example of a if-elif-else chain\n",
    "x = 7\n",
    "if x < 10:\n",
    "    print(\"x is less than 10\")\n",
    "elif x < 15:\n",
    "    print(\"x is less than 15 but more than or equal to 10\")\n",
    "else:\n",
    "    print(\"x is greater than or equal to 15\")\n",
    "\n",
    "# Example of using for loop over a list with an else clause\n",
    "for i in [1, 2, 3, 4, 5]:\n",
    "    if i == 3:\n",
    "        break\n",
    "    print(i)\n",
    "else:\n",
    "    print(\"The loop has finished iterating over the sequence.\")\n",
    "\n",
    "# Example of a while loop with an else clause\n",
    "x = 0\n",
    "while x < 5:\n",
    "    print(x)\n",
    "    x += 1\n",
    "else:\n",
    "    print(\"x is no longer less than 5\")"
   ]
  },
  {
   "cell_type": "markdown",
   "id": "4810dd17",
   "metadata": {},
   "source": [
    "\n",
    "## Detailed Explanations\n",
    "\n",
    "1. **Pandas Operations**: With pandas, you can perform a variety of operations on your data such as calculations (addition, subtraction etc.), conditional operation(s), statistical operations (mean, median etc.), string and even more complex operations. Both series and dataframes support these operations.\n",
    "\n",
    "2. **Exploratory Data Analysis (EDA)**: Pandas provide several methods for you to quickly understand and explore your data. Some of these methods include `describe` (which provides a quick statistical summary of your data), `head` (which shows the first N rows of your data), `tail` (shows the last N rows), `shape` (shows the number of rows and columns in your data) and many more.\n",
    "\n",
    "3. **Python Control Structures**: In Python, you have control structures that direct the flow of your program. You have conditional statements (`if-elif-else`) that run certain blocks of code based on specific conditions. Then you also have loops (`for` and `while`) that run a block of code multiple times. The `for` loop often iterates over a sequence (like a list or a string) whereas a `while` loop runs as long as a certain condition is met.\n"
   ]
  },
  {
   "cell_type": "markdown",
   "id": "0ec6f24c",
   "metadata": {},
   "source": [
    "\n",
    "## Detailed Walkthrough of Examples\n",
    "\n",
    "### Pandas Operations Example Walkthrough:\n",
    "\n",
    "In the first example, we have a pandas Series named 's':\n",
    "\n",
    "```python\n",
    "s = pd.Series(['Tom', 'William Rick', 'John', 'Alber@t', np.nan, '1234','SteveSmith'])\n",
    "```\n",
    "which consists of several string (text) values, including names, a string with a special character '@', a number written as a string '1234', and a missing value represented as `np.nan`.\n",
    "\n",
    "#### Operations:\n",
    "\n",
    "1. `s.str.lower()`: This operation is converting all the string values in 's' to lower case.\n",
    "\n",
    "2. `s.str.upper()`: This operation is converting all the string values in 's' to upper case.\n",
    "\n",
    "3. `s.str.len()`: This operation is calculating the length of each string value in 's' (the number of characters), and returning that as a Series of numbers.\n",
    "\n",
    "These operations are helping us manipulate and understand the string data in pandas Series or DataFrame. If this were a real dataset, we could use these operations to standardize text values, derive new characteristics from our data, and clean it for further analysis.\n",
    "\n"
   ]
  },
  {
   "cell_type": "markdown",
   "id": "89d482b7",
   "metadata": {},
   "source": [
    "\n",
    "### Additional String Operations Examples Walkthrough:\n",
    "\n",
    "These notable examples focus on more advanced string manipulation techniques.\n",
    "\n",
    "1. `s.str.replace('a', 'b')`: This operation replaces all occurrences of 'a' in the strings within the Series 's' with 'b'. This could be used when you need to replace specific characters or correct spelling errors across your dataset.\n",
    "\n",
    "2. `s.str.contains('A')`: This operation checks each string in the Series 's' to see if it contains the character 'A'. It returns a Series of Boolean values (True or False) representing whether 'A' was found in each string. This is particularly useful when you're looking to filter out or examine rows that contain a certain keyword or pattern.\n",
    "\n",
    "3. `s.str.count('a')`: This operation counts the number of times 'a' appears in each string in the Series 's'. The result is a Series of numbers representing these counts.\n",
    "\n",
    "Next, we create a new Series 's2':\n",
    "\n",
    "```python\n",
    "s2 = pd.Series(['  A', 'B  ', '  C  '])\n",
    "```\n",
    "\n",
    "which contains string values with leading and/or trailing whitespaces.\n",
    "\n",
    "1. `s2.str.lstrip()`: This operation removes leading spaces from each string in the Series 's2'.\n",
    "\n",
    "2. `s2.str.rstrip()`: This operation removes trailing spaces from each string in the Series 's2'.\n",
    "\n",
    "3. `s2.str.strip()`: This operation removes both leading and trailing spaces from each string in the Series 's2'.\n",
    "\n",
    "These operations are useful in data cleaning processes where you need to remove unneeded whitespace from your text data.\n"
   ]
  },
  {
   "cell_type": "markdown",
   "id": "be434f3e",
   "metadata": {},
   "source": [
    "\n",
    "### Exploratory Data Analysis (EDA) Examples Walkthrough:\n",
    "\n",
    "In the EDA examples, we assume we have a pandas DataFrame 'df'. We demonstrate various operations to explore and understand the data contained in 'df'.\n",
    "\n",
    "1. `df.var()`: This operation calculates the variance of the values in each column in the DataFrame 'df'. Variance is a measure of how spread out the values are in a dataset or a column.\n",
    "\n",
    "2. `df.corr()`: This operation calculates the correlation between each pair of numerical columns in the DataFrame 'df'. Correlation is a statistical measure that explains how one or more variables are related to each other.\n",
    "\n",
    "3. `df.cumsum()`: This operation applies a cumulative sum over each column in the DataFrame 'df'. A cumulative sum is a sequence of partial sums of a given sequence.\n",
    "\n",
    "4. `df.hist()`: This operation plots a histogram for each numerical column in the DataFrame 'df'. A histogram is a graphical representation that organizes a group of data points into a specified range.\n",
    "\n",
    "These EDA operations provide a quick and effective understanding of the underlying data which is essential before carrying out any further data analysis or data processing tasks.\n"
   ]
  },
  {
   "cell_type": "markdown",
   "id": "9c838a6d",
   "metadata": {},
   "source": [
    "\n",
    "### Python Control Structures Example Walkthrough:\n",
    "\n",
    "#### Conditional Statements:\n",
    "\n",
    "In Python, conditional statements are used to execute certain pieces of code based on specific conditions. You primarily use `if`, `elif` (short for 'else if'), and `else` for this purpose.\n",
    "\n",
    "```python\n",
    "day = 'Sunday'\n",
    "\n",
    "if day == 'Sunday':\n",
    "    print('Today is the day of the sun.')\n",
    "elif day == 'Monday':\n",
    "    print('Today is the day of the moon.')\n",
    "else:\n",
    "    print('Today is a weekday.')\n",
    "```\n",
    "In this example, we have a variable 'day' that contains the string 'Sunday'. The `if` statement checks if the value of 'day' is 'Sunday'. If it is, 'Today is the day of the sun.' is printed. The `elif` statement checks if the value of 'day' is 'Monday'. If it is, 'Today is the day of the moon.' is printed. If 'day' is neither 'Sunday' nor 'Monday', the `else` statement executes and 'Today is a weekday.' is printed.\n",
    "\n",
    "#### Loops:\n",
    "\n",
    "Python provides `for` and `while` loops to iterate over a block of code multiple times.\n",
    "\n",
    "##### Example of `for` loop:\n",
    "```python\n",
    "numbers = [1, 2, 3, 4, 5]\n",
    "\n",
    "for number in numbers:\n",
    "    print(number)\n",
    "```\n",
    "In this example, we have a list of numbers from 1 to 5. The `for` loop iterates over each item in this list, and the `print` statement inside the loop prints the current item.\n",
    "\n",
    "##### Example of `while` loop:\n",
    "```python\n",
    "i = 0\n",
    "\n",
    "while i < 5:\n",
    "    print(i)\n",
    "    i += 1\n",
    "```\n",
    "In this example, we define a variable 'i' with an initial value of 0. The `while` loop keeps running as long as 'i' is less than 5. Within the loop, we first print the current value of 'i', then increment 'i' by 1. Once 'i' becomes 5, the `while` loop stops because the condition 'i < 5' is no longer True.\n"
   ]
  }
 ],
 "metadata": {
  "kernelspec": {
   "display_name": "Python 3",
   "language": "python",
   "name": "python3"
  },
  "language_info": {
   "codemirror_mode": {
    "name": "ipython",
    "version": 3
   },
   "file_extension": ".py",
   "mimetype": "text/x-python",
   "name": "python",
   "nbconvert_exporter": "python",
   "pygments_lexer": "ipython3",
   "version": "3.9.6"
  }
 },
 "nbformat": 4,
 "nbformat_minor": 5
}
